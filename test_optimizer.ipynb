{
 "cells": [
  {
   "cell_type": "markdown",
   "metadata": {},
   "source": [
    "<h2>Important Packages</h2>"
   ]
  },
  {
   "cell_type": "code",
   "execution_count": 21,
   "metadata": {},
   "outputs": [],
   "source": [
    "import pandas as pd\n",
    "import numpy as np"
   ]
  },
  {
   "cell_type": "markdown",
   "metadata": {},
   "source": [
    "<h2>Load data and make train and test set</h2>"
   ]
  },
  {
   "cell_type": "code",
   "execution_count": 22,
   "metadata": {},
   "outputs": [],
   "source": [
    "import os\n",
    "from typing import List\n",
    "\n",
    "def get_file_list(data_folder_path: str) -> List[str]:\n",
    "    file_lst = []\n",
    "    \n",
    "    # Get all files in the directory\n",
    "    for root, _, files in os.walk(data_folder_path):\n",
    "        for file in files:\n",
    "            if file.endswith('.csv',):  # Only consider CSV files\n",
    "                file_path = os.path.join(root, file)\n",
    "                # Append file path and its modification time\n",
    "                file_lst.append(file_path)\n",
    "\n",
    "\n",
    "    # Extract just the file paths\n",
    "    return file_lst"
   ]
  },
  {
   "cell_type": "code",
   "execution_count": 56,
   "metadata": {},
   "outputs": [],
   "source": [
    "data_folder = \"data\"\n",
    "data_files = get_file_list('data')\n",
    "df_list = [pd.read_csv(data_file) for data_file in data_files]"
   ]
  },
  {
   "cell_type": "code",
   "execution_count": 61,
   "metadata": {},
   "outputs": [
    {
     "data": {
      "text/html": [
       "<div>\n",
       "<style scoped>\n",
       "    .dataframe tbody tr th:only-of-type {\n",
       "        vertical-align: middle;\n",
       "    }\n",
       "\n",
       "    .dataframe tbody tr th {\n",
       "        vertical-align: top;\n",
       "    }\n",
       "\n",
       "    .dataframe thead th {\n",
       "        text-align: right;\n",
       "    }\n",
       "</style>\n",
       "<table border=\"1\" class=\"dataframe\">\n",
       "  <thead>\n",
       "    <tr style=\"text-align: right;\">\n",
       "      <th></th>\n",
       "      <th>T1</th>\n",
       "      <th>T2</th>\n",
       "      <th>T3</th>\n",
       "      <th>T4</th>\n",
       "      <th>T5</th>\n",
       "      <th>T6</th>\n",
       "      <th>T7</th>\n",
       "      <th>T8</th>\n",
       "      <th>T9</th>\n",
       "      <th>T10</th>\n",
       "      <th>T11</th>\n",
       "      <th>T12</th>\n",
       "      <th>T13</th>\n",
       "      <th>T14</th>\n",
       "      <th>T15</th>\n",
       "      <th>Del</th>\n",
       "    </tr>\n",
       "  </thead>\n",
       "  <tbody>\n",
       "    <tr>\n",
       "      <th>0</th>\n",
       "      <td>27.5</td>\n",
       "      <td>27.2</td>\n",
       "      <td>28.7</td>\n",
       "      <td>29.0</td>\n",
       "      <td>29.0</td>\n",
       "      <td>29.0</td>\n",
       "      <td>29.0</td>\n",
       "      <td>27.2</td>\n",
       "      <td>28.4</td>\n",
       "      <td>32.2</td>\n",
       "      <td>27.2</td>\n",
       "      <td>27.2</td>\n",
       "      <td>27.4</td>\n",
       "      <td>39.7</td>\n",
       "      <td>26.8</td>\n",
       "      <td>0</td>\n",
       "    </tr>\n",
       "    <tr>\n",
       "      <th>1</th>\n",
       "      <td>27.5</td>\n",
       "      <td>27.2</td>\n",
       "      <td>28.7</td>\n",
       "      <td>28.9</td>\n",
       "      <td>29.2</td>\n",
       "      <td>29.0</td>\n",
       "      <td>29.1</td>\n",
       "      <td>27.2</td>\n",
       "      <td>28.3</td>\n",
       "      <td>32.5</td>\n",
       "      <td>27.2</td>\n",
       "      <td>27.2</td>\n",
       "      <td>27.4</td>\n",
       "      <td>39.6</td>\n",
       "      <td>26.7</td>\n",
       "      <td>-3</td>\n",
       "    </tr>\n",
       "    <tr>\n",
       "      <th>2</th>\n",
       "      <td>27.3</td>\n",
       "      <td>27.2</td>\n",
       "      <td>28.7</td>\n",
       "      <td>28.8</td>\n",
       "      <td>29.0</td>\n",
       "      <td>29.0</td>\n",
       "      <td>29.1</td>\n",
       "      <td>27.2</td>\n",
       "      <td>28.3</td>\n",
       "      <td>32.4</td>\n",
       "      <td>27.1</td>\n",
       "      <td>27.2</td>\n",
       "      <td>27.6</td>\n",
       "      <td>39.6</td>\n",
       "      <td>26.8</td>\n",
       "      <td>-3</td>\n",
       "    </tr>\n",
       "    <tr>\n",
       "      <th>3</th>\n",
       "      <td>27.5</td>\n",
       "      <td>27.1</td>\n",
       "      <td>28.7</td>\n",
       "      <td>28.6</td>\n",
       "      <td>29.1</td>\n",
       "      <td>29.1</td>\n",
       "      <td>29.1</td>\n",
       "      <td>27.2</td>\n",
       "      <td>28.3</td>\n",
       "      <td>32.5</td>\n",
       "      <td>27.1</td>\n",
       "      <td>27.2</td>\n",
       "      <td>27.6</td>\n",
       "      <td>39.6</td>\n",
       "      <td>26.6</td>\n",
       "      <td>-3</td>\n",
       "    </tr>\n",
       "    <tr>\n",
       "      <th>4</th>\n",
       "      <td>27.5</td>\n",
       "      <td>27.1</td>\n",
       "      <td>28.5</td>\n",
       "      <td>28.7</td>\n",
       "      <td>29.1</td>\n",
       "      <td>28.9</td>\n",
       "      <td>29.1</td>\n",
       "      <td>27.2</td>\n",
       "      <td>28.3</td>\n",
       "      <td>32.5</td>\n",
       "      <td>27.1</td>\n",
       "      <td>27.2</td>\n",
       "      <td>27.6</td>\n",
       "      <td>39.6</td>\n",
       "      <td>26.8</td>\n",
       "      <td>-3</td>\n",
       "    </tr>\n",
       "    <tr>\n",
       "      <th>...</th>\n",
       "      <td>...</td>\n",
       "      <td>...</td>\n",
       "      <td>...</td>\n",
       "      <td>...</td>\n",
       "      <td>...</td>\n",
       "      <td>...</td>\n",
       "      <td>...</td>\n",
       "      <td>...</td>\n",
       "      <td>...</td>\n",
       "      <td>...</td>\n",
       "      <td>...</td>\n",
       "      <td>...</td>\n",
       "      <td>...</td>\n",
       "      <td>...</td>\n",
       "      <td>...</td>\n",
       "      <td>...</td>\n",
       "    </tr>\n",
       "    <tr>\n",
       "      <th>345</th>\n",
       "      <td>29.9</td>\n",
       "      <td>32.8</td>\n",
       "      <td>37.1</td>\n",
       "      <td>37.9</td>\n",
       "      <td>38.9</td>\n",
       "      <td>38.9</td>\n",
       "      <td>38.9</td>\n",
       "      <td>32.4</td>\n",
       "      <td>37.3</td>\n",
       "      <td>62.5</td>\n",
       "      <td>31.1</td>\n",
       "      <td>32.9</td>\n",
       "      <td>31.4</td>\n",
       "      <td>55.5</td>\n",
       "      <td>30.6</td>\n",
       "      <td>42</td>\n",
       "    </tr>\n",
       "    <tr>\n",
       "      <th>346</th>\n",
       "      <td>29.9</td>\n",
       "      <td>32.7</td>\n",
       "      <td>37.3</td>\n",
       "      <td>38.0</td>\n",
       "      <td>38.9</td>\n",
       "      <td>38.9</td>\n",
       "      <td>38.9</td>\n",
       "      <td>32.4</td>\n",
       "      <td>37.2</td>\n",
       "      <td>62.5</td>\n",
       "      <td>31.1</td>\n",
       "      <td>32.9</td>\n",
       "      <td>31.4</td>\n",
       "      <td>55.6</td>\n",
       "      <td>30.4</td>\n",
       "      <td>42</td>\n",
       "    </tr>\n",
       "    <tr>\n",
       "      <th>347</th>\n",
       "      <td>30.1</td>\n",
       "      <td>33.0</td>\n",
       "      <td>37.3</td>\n",
       "      <td>38.0</td>\n",
       "      <td>38.9</td>\n",
       "      <td>38.9</td>\n",
       "      <td>38.9</td>\n",
       "      <td>32.3</td>\n",
       "      <td>37.1</td>\n",
       "      <td>62.3</td>\n",
       "      <td>31.1</td>\n",
       "      <td>32.9</td>\n",
       "      <td>31.4</td>\n",
       "      <td>55.5</td>\n",
       "      <td>30.4</td>\n",
       "      <td>43</td>\n",
       "    </tr>\n",
       "    <tr>\n",
       "      <th>348</th>\n",
       "      <td>29.8</td>\n",
       "      <td>32.9</td>\n",
       "      <td>37.3</td>\n",
       "      <td>38.0</td>\n",
       "      <td>38.9</td>\n",
       "      <td>38.9</td>\n",
       "      <td>38.9</td>\n",
       "      <td>32.3</td>\n",
       "      <td>37.1</td>\n",
       "      <td>62.4</td>\n",
       "      <td>31.1</td>\n",
       "      <td>32.8</td>\n",
       "      <td>31.4</td>\n",
       "      <td>55.2</td>\n",
       "      <td>30.4</td>\n",
       "      <td>42</td>\n",
       "    </tr>\n",
       "    <tr>\n",
       "      <th>349</th>\n",
       "      <td>29.8</td>\n",
       "      <td>32.8</td>\n",
       "      <td>37.1</td>\n",
       "      <td>38.0</td>\n",
       "      <td>38.9</td>\n",
       "      <td>38.9</td>\n",
       "      <td>38.9</td>\n",
       "      <td>32.3</td>\n",
       "      <td>37.1</td>\n",
       "      <td>62.4</td>\n",
       "      <td>31.3</td>\n",
       "      <td>33.2</td>\n",
       "      <td>31.4</td>\n",
       "      <td>55.1</td>\n",
       "      <td>30.5</td>\n",
       "      <td>43</td>\n",
       "    </tr>\n",
       "  </tbody>\n",
       "</table>\n",
       "<p>350 rows × 16 columns</p>\n",
       "</div>"
      ],
      "text/plain": [
       "       T1    T2    T3    T4    T5    T6    T7    T8    T9   T10   T11   T12  \\\n",
       "0    27.5  27.2  28.7  29.0  29.0  29.0  29.0  27.2  28.4  32.2  27.2  27.2   \n",
       "1    27.5  27.2  28.7  28.9  29.2  29.0  29.1  27.2  28.3  32.5  27.2  27.2   \n",
       "2    27.3  27.2  28.7  28.8  29.0  29.0  29.1  27.2  28.3  32.4  27.1  27.2   \n",
       "3    27.5  27.1  28.7  28.6  29.1  29.1  29.1  27.2  28.3  32.5  27.1  27.2   \n",
       "4    27.5  27.1  28.5  28.7  29.1  28.9  29.1  27.2  28.3  32.5  27.1  27.2   \n",
       "..    ...   ...   ...   ...   ...   ...   ...   ...   ...   ...   ...   ...   \n",
       "345  29.9  32.8  37.1  37.9  38.9  38.9  38.9  32.4  37.3  62.5  31.1  32.9   \n",
       "346  29.9  32.7  37.3  38.0  38.9  38.9  38.9  32.4  37.2  62.5  31.1  32.9   \n",
       "347  30.1  33.0  37.3  38.0  38.9  38.9  38.9  32.3  37.1  62.3  31.1  32.9   \n",
       "348  29.8  32.9  37.3  38.0  38.9  38.9  38.9  32.3  37.1  62.4  31.1  32.8   \n",
       "349  29.8  32.8  37.1  38.0  38.9  38.9  38.9  32.3  37.1  62.4  31.3  33.2   \n",
       "\n",
       "      T13   T14   T15  Del  \n",
       "0    27.4  39.7  26.8    0  \n",
       "1    27.4  39.6  26.7   -3  \n",
       "2    27.6  39.6  26.8   -3  \n",
       "3    27.6  39.6  26.6   -3  \n",
       "4    27.6  39.6  26.8   -3  \n",
       "..    ...   ...   ...  ...  \n",
       "345  31.4  55.5  30.6   42  \n",
       "346  31.4  55.6  30.4   42  \n",
       "347  31.4  55.5  30.4   43  \n",
       "348  31.4  55.2  30.4   42  \n",
       "349  31.4  55.1  30.5   43  \n",
       "\n",
       "[350 rows x 16 columns]"
      ]
     },
     "execution_count": 61,
     "metadata": {},
     "output_type": "execute_result"
    }
   ],
   "source": [
    "df_list[4]"
   ]
  },
  {
   "cell_type": "markdown",
   "metadata": {},
   "source": [
    "<h4>Prepare data for LSTM model</h4>"
   ]
  },
  {
   "cell_type": "code",
   "execution_count": 62,
   "metadata": {},
   "outputs": [],
   "source": [
    "from sklearn.model_selection import train_test_split\n",
    "\n",
    "def save_past_dependence_merged_data(df_lst, window_size: int = 10):\n",
    "    \"\"\"\n",
    "    Prepares and saves data for LSTM model with a sliding window approach.\n",
    "\n",
    "    Parameters:\n",
    "    - window_size: int, the number of past observations to consider for each sequence.\n",
    "    \"\"\"\n",
    "    X_data, y_data = [], []\n",
    "\n",
    "    save_path_train = 'temp/train_compressed.npz'\n",
    "    save_path_test = 'temp/test_compressed.npz'\n",
    "\n",
    "    for df in df_lst:\n",
    "        df = df.dropna().reset_index(drop=True)  # Drop NaN values and reset index if needed\n",
    "        m, n = df.shape\n",
    "        \n",
    "        # Generate sequences for the current dataframe\n",
    "        for i in range(m - window_size):\n",
    "            # Extract window of features (excluding the first column as features)\n",
    "            X = df.iloc[i:i + window_size, :-1].values  # Use all columns except last one\n",
    "            y = df.iloc[i + window_size, -1]  # Use the target column as last column\n",
    "\n",
    "            X_data.append(X)\n",
    "            y_data.append(y)\n",
    "\n",
    "    # Convert lists to arrays\n",
    "    X_data = np.array(X_data)\n",
    "    y_data = np.array(y_data)\n",
    "\n",
    "    trainX, testX, train_y, test_y = train_test_split(X_data, y_data, test_size=0.2, random_state=42)\n",
    "\n",
    "    # Ensure directory exists and save the .npz file\n",
    "    np.savez_compressed(save_path_train, X=trainX, y=train_y)\n",
    "    np.savez_compressed(save_path_test, X=testX, y=test_y)\n",
    "    print(f\"Data saved to temp/...\")"
   ]
  },
  {
   "cell_type": "code",
   "execution_count": 63,
   "metadata": {},
   "outputs": [
    {
     "name": "stdout",
     "output_type": "stream",
     "text": [
      "Data saved to temp/...\n"
     ]
    }
   ],
   "source": [
    "save_past_dependence_merged_data(df_list, window_size = 10)"
   ]
  },
  {
   "cell_type": "code",
   "execution_count": 64,
   "metadata": {},
   "outputs": [],
   "source": [
    "training_data = np.load(\"temp/train_compressed.npz\")\n",
    "test_data = np.load(\"temp/test_compressed.npz\")\n",
    "\n",
    "trainX, train_y = training_data['X'], training_data['y']\n",
    "testX, test_y = test_data['X'], test_data['y']"
   ]
  },
  {
   "cell_type": "code",
   "execution_count": 65,
   "metadata": {},
   "outputs": [
    {
     "name": "stdout",
     "output_type": "stream",
     "text": [
      "(318, 10, 15)\n",
      "(1272, 10, 15)\n"
     ]
    }
   ],
   "source": [
    "print(testX.shape)\n",
    "print(trainX.shape)"
   ]
  },
  {
   "cell_type": "code",
   "execution_count": 67,
   "metadata": {},
   "outputs": [
    {
     "name": "stdout",
     "output_type": "stream",
     "text": [
      "(318,)\n",
      "(1272,)\n"
     ]
    }
   ],
   "source": [
    "print(test_y.shape)\n",
    "print(train_y.shape)"
   ]
  },
  {
   "cell_type": "code",
   "execution_count": 68,
   "metadata": {},
   "outputs": [
    {
     "data": {
      "text/plain": [
       "array([[[28.1, 29.4, 32.4, ..., 27.9, 48.1, 27.1],\n",
       "        [28.1, 29.4, 32.4, ..., 27.9, 48.1, 27.1],\n",
       "        [28.1, 29.4, 32.5, ..., 27.7, 47.9, 27.1],\n",
       "        ...,\n",
       "        [27.9, 29.4, 32.2, ..., 27.7, 47.3, 27.1],\n",
       "        [27.9, 29.4, 32.2, ..., 27.7, 47.1, 27.2],\n",
       "        [27.9, 29.4, 32.2, ..., 27.7, 47. , 27.1]],\n",
       "\n",
       "       [[29. , 29.7, 34.4, ..., 29.3, 53.1, 29.4],\n",
       "        [28.9, 29.7, 34.6, ..., 29.5, 53.3, 29.4],\n",
       "        [28.9, 29.8, 34.7, ..., 29.5, 53.4, 29.4],\n",
       "        ...,\n",
       "        [28.7, 29.9, 34.9, ..., 29.5, 54. , 29.5],\n",
       "        [28.8, 29.9, 34.9, ..., 29.5, 53.9, 29.4],\n",
       "        [28.7, 29.9, 34.8, ..., 29.5, 54.1, 29.4]],\n",
       "\n",
       "       [[30.1, 31.6, 36.2, ..., 30.7, 53.8, 29.9],\n",
       "        [30.1, 31.6, 36.1, ..., 30.7, 54. , 29.9],\n",
       "        [30. , 31.6, 36.2, ..., 30.6, 54. , 29.9],\n",
       "        ...,\n",
       "        [30.1, 31.7, 36.2, ..., 30.6, 54.1, 30.1],\n",
       "        [30.1, 31.7, 36.4, ..., 30.8, 54. , 30.1],\n",
       "        [30.1, 31.6, 36.4, ..., 30.7, 54. , 30.1]],\n",
       "\n",
       "       ...,\n",
       "\n",
       "       [[29.4, 31.1, 36.3, ..., 30.7, 55.8, 30.2],\n",
       "        [29.6, 31.3, 36.5, ..., 30.8, 55.9, 30.1],\n",
       "        [29.5, 31.3, 36.5, ..., 30.7, 55.9, 30.3],\n",
       "        ...,\n",
       "        [29.6, 31.3, 36.4, ..., 30.8, 56.4, 30.2],\n",
       "        [29.7, 31.4, 36.6, ..., 30.7, 56.5, 30.2],\n",
       "        [29.7, 31.4, 36.5, ..., 30.7, 56.8, 30.2]],\n",
       "\n",
       "       [[30. , 28.9, 32.8, ..., 28.2, 51.8, 27.5],\n",
       "        [30. , 29. , 33. , ..., 28.3, 52.1, 27.5],\n",
       "        [30.2, 29. , 32.9, ..., 28.3, 52.2, 27.5],\n",
       "        ...,\n",
       "        [30.1, 29. , 33.2, ..., 28.4, 52.6, 27.6],\n",
       "        [30.3, 29. , 33.2, ..., 28.3, 52.7, 27.9],\n",
       "        [30.3, 29. , 33.4, ..., 28.5, 52.9, 27.8]],\n",
       "\n",
       "       [[28.6, 28.3, 32.5, ..., 27.9, 51. , 28.5],\n",
       "        [28.5, 28.2, 32.7, ..., 27.9, 50.8, 28.7],\n",
       "        [28.5, 28.2, 32.8, ..., 28.1, 51.2, 28.7],\n",
       "        ...,\n",
       "        [28.7, 28.5, 33. , ..., 28.2, 51.7, 28.7],\n",
       "        [28.8, 28.4, 33.1, ..., 28.2, 51.7, 28.7],\n",
       "        [28.8, 28.6, 33.2, ..., 28.4, 51.7, 28.7]]])"
      ]
     },
     "execution_count": 68,
     "metadata": {},
     "output_type": "execute_result"
    }
   ],
   "source": [
    "testX"
   ]
  },
  {
   "cell_type": "code",
   "execution_count": 69,
   "metadata": {},
   "outputs": [
    {
     "data": {
      "text/plain": [
       "array([24, 26, 40,  0,  7, 25, 28, 11,  8,  7, 19, 12, 24, 41, 39, 30, 10,\n",
       "        8, 49, 27, 20, 48, 41, 33,  9, 43, 17, 43,  6, 18, 28, 20, 32, 12,\n",
       "       19, 24, 46,  1, 18, 27,  1,  8, 13, 11, 25, 13, 47, 27,  3, 16, 25,\n",
       "       43, 11, 27,  0, 39, 17, 31, 21, 15, 20, 17,  8,  1, 50, 22, 38, 12,\n",
       "       18, 24, 18, 13, 14, 19, 40, 35, 12, 26, 23, 33, 42, 21, 25, 21, 24,\n",
       "       34, 41, 28, 31, 37, 35, 20, 15, 48, 40, 19, 43, 19, 41, 11,  9, 39,\n",
       "        4, 27, 23, 18, 28, 47, 15, 23,  7, 29, 27, 34, 24, 35, 19, 17, 27,\n",
       "        7, 14, 21, 16,  1, 22, 29,  9, 11,  4, 41, 18, 33, 17, 26, 12, 10,\n",
       "       42, 23, 33, 19,  9, 33, 24,  2, 19, 36, 38, 26, 36, 42, 52, 13, 14,\n",
       "       46, 23, 21, 28, 26, 10, 27, 21, 21, 16, 35, 41, 21, 43, 26, 26, 16,\n",
       "       17, 50, 32, 51, 42, 36, 41, 42,  3, 13,  6,  6, 49, 25, 30, 33, 24,\n",
       "       18, 30, 28, 15, 28, 36, 10, 27, 29, 29, 23, 11, 34, 22,  4, 21,  9,\n",
       "       39,  7, 11, 32, 41, 13, 28, 22, 18,  3, 23,  5, 39, 11, 38, 42, 21,\n",
       "       26, 27, 17, 30, 13, 21, 27, 49, 40, 34, 21, 12, 10, 17, 20,  5, 30,\n",
       "       18, 13, 12, 26,  7, 27,  7, 26, 28, 16, 20, 28, 42,  4, 15, 26, 42,\n",
       "       28, 47,  1, 23, 29, 32, 12, 14, 25, 10, 34, 34, 28, 35, 22, 23, 27,\n",
       "       29, 20, 41, 42, 33, 11, 16,  0, 20, 46, 36, 47,  5, 16, 23, 12,  2,\n",
       "       38, 25, 19, 22, 33, 21, 33,  9, 28, 28, 34, 40, 34, 10, 10, 41, 21,\n",
       "       23, 27, 21, 39, 29, 12,  5, 21, 16, 39,  4, 17])"
      ]
     },
     "execution_count": 69,
     "metadata": {},
     "output_type": "execute_result"
    }
   ],
   "source": [
    "test_y"
   ]
  },
  {
   "cell_type": "markdown",
   "metadata": {},
   "source": [
    "<h2>Build Objective function</h2>"
   ]
  },
  {
   "cell_type": "code",
   "execution_count": 70,
   "metadata": {},
   "outputs": [],
   "source": [
    "import optuna\n",
    "from tensorflow.keras.models import Sequential\n",
    "from tensorflow.keras.layers import LSTM, Dense, Dropout, Input\n",
    "from tensorflow.keras.optimizers import Adam\n",
    "from tensorflow.keras import regularizers\n",
    "from sklearn.metrics import mean_squared_error\n",
    "from tensorflow.keras.callbacks import EarlyStopping"
   ]
  },
  {
   "cell_type": "markdown",
   "metadata": {},
   "source": [
    "<h4>Test a LSTM model with manual hyperparameter</h4>"
   ]
  },
  {
   "cell_type": "code",
   "execution_count": 71,
   "metadata": {},
   "outputs": [
    {
     "name": "stdout",
     "output_type": "stream",
     "text": [
      "Epoch 1/50\n",
      "\u001b[1m64/64\u001b[0m \u001b[32m━━━━━━━━━━━━━━━━━━━━\u001b[0m\u001b[37m\u001b[0m \u001b[1m4s\u001b[0m 15ms/step - loss: 432.0111 - val_loss: 170.9992\n",
      "Epoch 2/50\n",
      "\u001b[1m64/64\u001b[0m \u001b[32m━━━━━━━━━━━━━━━━━━━━\u001b[0m\u001b[37m\u001b[0m \u001b[1m1s\u001b[0m 9ms/step - loss: 153.6616 - val_loss: 144.5192\n",
      "Epoch 3/50\n",
      "\u001b[1m64/64\u001b[0m \u001b[32m━━━━━━━━━━━━━━━━━━━━\u001b[0m\u001b[37m\u001b[0m \u001b[1m1s\u001b[0m 10ms/step - loss: 146.6583 - val_loss: 143.2465\n",
      "Epoch 4/50\n",
      "\u001b[1m64/64\u001b[0m \u001b[32m━━━━━━━━━━━━━━━━━━━━\u001b[0m\u001b[37m\u001b[0m \u001b[1m1s\u001b[0m 10ms/step - loss: 143.7312 - val_loss: 145.5406\n",
      "Epoch 5/50\n",
      "\u001b[1m64/64\u001b[0m \u001b[32m━━━━━━━━━━━━━━━━━━━━\u001b[0m\u001b[37m\u001b[0m \u001b[1m1s\u001b[0m 9ms/step - loss: 148.5300 - val_loss: 143.8352\n",
      "Epoch 6/50\n",
      "\u001b[1m64/64\u001b[0m \u001b[32m━━━━━━━━━━━━━━━━━━━━\u001b[0m\u001b[37m\u001b[0m \u001b[1m1s\u001b[0m 10ms/step - loss: 157.3051 - val_loss: 143.5559\n",
      "Epoch 7/50\n",
      "\u001b[1m64/64\u001b[0m \u001b[32m━━━━━━━━━━━━━━━━━━━━\u001b[0m\u001b[37m\u001b[0m \u001b[1m1s\u001b[0m 10ms/step - loss: 141.6401 - val_loss: 143.5070\n",
      "Epoch 8/50\n",
      "\u001b[1m64/64\u001b[0m \u001b[32m━━━━━━━━━━━━━━━━━━━━\u001b[0m\u001b[37m\u001b[0m \u001b[1m1s\u001b[0m 10ms/step - loss: 159.6006 - val_loss: 143.6440\n",
      "\u001b[1m10/10\u001b[0m \u001b[32m━━━━━━━━━━━━━━━━━━━━\u001b[0m\u001b[37m\u001b[0m \u001b[1m1s\u001b[0m 30ms/step\n"
     ]
    }
   ],
   "source": [
    "m,n,h = trainX.shape\n",
    "\n",
    "model = Sequential()\n",
    "model.add(Input(shape=(n,h)))\n",
    "model.add(LSTM(units=64))\n",
    "model.add(Dropout(rate=0.1))\n",
    "\n",
    "model.add(Dense(units=1, activation=\"linear\"))  # Output layer\n",
    "\n",
    "    # Compile the model\n",
    "optimizer = Adam(learning_rate=0.01)\n",
    "model.compile(optimizer=optimizer, loss=\"mse\")\n",
    "\n",
    "# Early stopping\n",
    "early_stopping = EarlyStopping(monitor=\"val_loss\", patience=5, restore_best_weights=True)\n",
    "\n",
    "# Train the model\n",
    "history = model.fit(\n",
    "    trainX, train_y,\n",
    "    validation_split=0.2,  # Correct argument\n",
    "    epochs=50,\n",
    "    batch_size=16,\n",
    "    callbacks=[early_stopping],\n",
    "    verbose=1\n",
    "    )\n",
    "\n",
    "    # Evaluate the model\n",
    "y_pred = model.predict(testX)\n",
    "mse = mean_squared_error(test_y, y_pred.reshape(-1))"
   ]
  },
  {
   "cell_type": "code",
   "execution_count": 72,
   "metadata": {},
   "outputs": [
    {
     "data": {
      "text/plain": [
       "(318, 1)"
      ]
     },
     "execution_count": 72,
     "metadata": {},
     "output_type": "execute_result"
    }
   ],
   "source": [
    "y_pred.shape"
   ]
  },
  {
   "cell_type": "code",
   "execution_count": 73,
   "metadata": {},
   "outputs": [
    {
     "data": {
      "text/plain": [
       "152.2822265625"
      ]
     },
     "execution_count": 73,
     "metadata": {},
     "output_type": "execute_result"
    }
   ],
   "source": [
    "mse"
   ]
  },
  {
   "cell_type": "code",
   "execution_count": 74,
   "metadata": {},
   "outputs": [],
   "source": [
    "# Objective function\n",
    "m,n,h = trainX.shape\n",
    "def objective(trial):\n",
    "    # Hyperparameter tuning\n",
    "    num_units = trial.suggest_int(\"num_units\", 16, 224, step=16)\n",
    "    num_layers = trial.suggest_int(\"num_layers\", 1, 3)\n",
    "    dropout_rate = trial.suggest_float(\"dropout_rate\", 0.1, 0.5)\n",
    "    learning_rate = trial.suggest_float(\"learning_rate\", 1e-4, 1e-2, log=True)\n",
    "    batch_size = trial.suggest_int(\"batch_size\", 16, 128, step=16)\n",
    "    epochs = trial.suggest_int(\"epochs\", 10, 100, step=10)\n",
    "    \n",
    "\n",
    "    # Model definition\n",
    "    model = Sequential()\n",
    "\n",
    "    if num_layers > 1:\n",
    "        model.add(LSTM(units=num_units, return_sequences=True, input_shape=(n,h)))\n",
    "        model.add(Dropout(rate=dropout_rate))\n",
    "    else:\n",
    "        model.add(LSTM(units=num_units, return_sequences=False, input_shape=(n,h)))\n",
    "    \n",
    "    model.add(Dropout(rate=dropout_rate))\n",
    "    \n",
    "    for _ in range(num_layers-2):\n",
    "        model.add(LSTM(units=num_units, return_sequences=True))\n",
    "        model.add(Dropout(rate=dropout_rate))\n",
    "\n",
    "    if(num_layers > 1):\n",
    "        model.add(LSTM(units=num_units, return_sequences=False))\n",
    "        model.add(Dropout(rate=dropout_rate))\n",
    "    model.add(Dense(units=1, activation='linear'))  # Output layer\n",
    "\n",
    "    # Compile the model\n",
    "    optimizer = Adam(learning_rate=learning_rate)\n",
    "    model.compile(optimizer=optimizer, loss=\"mse\")\n",
    "\n",
    "    \n",
    "    early_stopping = EarlyStopping(monitor=\"val_loss\", patience=5, restore_best_weights=True)\n",
    "    \n",
    "    model.fit(\n",
    "        trainX, train_y,\n",
    "        validation_split = 0.2,\n",
    "        epochs=epochs,\n",
    "        batch_size=batch_size,\n",
    "        callbacks=[early_stopping],\n",
    "        verbose=0\n",
    "    )\n",
    "    \n",
    "    # Evaluate the model\n",
    "    y_pred = model.predict(testX)\n",
    "    mse = mean_squared_error(test_y, y_pred)\n",
    "    \n",
    "    return mse"
   ]
  },
  {
   "cell_type": "code",
   "execution_count": 75,
   "metadata": {},
   "outputs": [
    {
     "name": "stderr",
     "output_type": "stream",
     "text": [
      "[I 2025-01-13 11:22:49,689] A new study created in memory with name: Tree Parzen Optimization of LSTM\n",
      "/home/imran/github space/OptimizationAlgo/ConferenceEnv/lib/python3.10/site-packages/keras/src/layers/rnn/rnn.py:200: UserWarning: Do not pass an `input_shape`/`input_dim` argument to a layer. When using Sequential models, prefer using an `Input(shape)` object as the first layer in the model instead.\n",
      "  super().__init__(**kwargs)\n"
     ]
    },
    {
     "name": "stdout",
     "output_type": "stream",
     "text": [
      "\u001b[1m10/10\u001b[0m \u001b[32m━━━━━━━━━━━━━━━━━━━━\u001b[0m\u001b[37m\u001b[0m \u001b[1m1s\u001b[0m 59ms/step\n"
     ]
    },
    {
     "name": "stderr",
     "output_type": "stream",
     "text": [
      "[I 2025-01-13 11:23:13,710] Trial 0 finished with value: 152.34910583496094 and parameters: {'num_units': 192, 'num_layers': 2, 'dropout_rate': 0.19418846214335295, 'learning_rate': 0.008262160737995673, 'batch_size': 80, 'epochs': 100}. Best is trial 0 with value: 152.34910583496094.\n",
      "/home/imran/github space/OptimizationAlgo/ConferenceEnv/lib/python3.10/site-packages/keras/src/layers/rnn/rnn.py:200: UserWarning: Do not pass an `input_shape`/`input_dim` argument to a layer. When using Sequential models, prefer using an `Input(shape)` object as the first layer in the model instead.\n",
      "  super().__init__(**kwargs)\n"
     ]
    },
    {
     "name": "stdout",
     "output_type": "stream",
     "text": [
      "\u001b[1m10/10\u001b[0m \u001b[32m━━━━━━━━━━━━━━━━━━━━\u001b[0m\u001b[37m\u001b[0m \u001b[1m1s\u001b[0m 76ms/step\n"
     ]
    },
    {
     "name": "stderr",
     "output_type": "stream",
     "text": [
      "[I 2025-01-13 11:23:31,711] Trial 1 finished with value: 152.30018615722656 and parameters: {'num_units': 48, 'num_layers': 3, 'dropout_rate': 0.1509907724983689, 'learning_rate': 0.003943473368871887, 'batch_size': 48, 'epochs': 60}. Best is trial 1 with value: 152.30018615722656.\n",
      "/home/imran/github space/OptimizationAlgo/ConferenceEnv/lib/python3.10/site-packages/keras/src/layers/rnn/rnn.py:200: UserWarning: Do not pass an `input_shape`/`input_dim` argument to a layer. When using Sequential models, prefer using an `Input(shape)` object as the first layer in the model instead.\n",
      "  super().__init__(**kwargs)\n"
     ]
    },
    {
     "name": "stdout",
     "output_type": "stream",
     "text": [
      "\u001b[1m10/10\u001b[0m \u001b[32m━━━━━━━━━━━━━━━━━━━━\u001b[0m\u001b[37m\u001b[0m \u001b[1m1s\u001b[0m 38ms/step\n"
     ]
    },
    {
     "name": "stderr",
     "output_type": "stream",
     "text": [
      "[I 2025-01-13 11:24:13,665] Trial 2 finished with value: 16.597192764282227 and parameters: {'num_units': 160, 'num_layers': 1, 'dropout_rate': 0.42151492114692546, 'learning_rate': 0.0003571083376668573, 'batch_size': 32, 'epochs': 80}. Best is trial 2 with value: 16.597192764282227.\n",
      "/home/imran/github space/OptimizationAlgo/ConferenceEnv/lib/python3.10/site-packages/keras/src/layers/rnn/rnn.py:200: UserWarning: Do not pass an `input_shape`/`input_dim` argument to a layer. When using Sequential models, prefer using an `Input(shape)` object as the first layer in the model instead.\n",
      "  super().__init__(**kwargs)\n"
     ]
    },
    {
     "name": "stdout",
     "output_type": "stream",
     "text": [
      "\u001b[1m10/10\u001b[0m \u001b[32m━━━━━━━━━━━━━━━━━━━━\u001b[0m\u001b[37m\u001b[0m \u001b[1m3s\u001b[0m 191ms/step\n"
     ]
    },
    {
     "name": "stderr",
     "output_type": "stream",
     "text": [
      "[I 2025-01-13 11:25:22,773] Trial 3 finished with value: 208.03282165527344 and parameters: {'num_units': 128, 'num_layers': 3, 'dropout_rate': 0.24841063108883166, 'learning_rate': 0.00010340354654668803, 'batch_size': 128, 'epochs': 30}. Best is trial 2 with value: 16.597192764282227.\n",
      "/home/imran/github space/OptimizationAlgo/ConferenceEnv/lib/python3.10/site-packages/keras/src/layers/rnn/rnn.py:200: UserWarning: Do not pass an `input_shape`/`input_dim` argument to a layer. When using Sequential models, prefer using an `Input(shape)` object as the first layer in the model instead.\n",
      "  super().__init__(**kwargs)\n"
     ]
    },
    {
     "name": "stdout",
     "output_type": "stream",
     "text": [
      "\u001b[1m10/10\u001b[0m \u001b[32m━━━━━━━━━━━━━━━━━━━━\u001b[0m\u001b[37m\u001b[0m \u001b[1m1s\u001b[0m 34ms/step\n"
     ]
    },
    {
     "name": "stderr",
     "output_type": "stream",
     "text": [
      "[I 2025-01-13 11:26:03,106] Trial 4 finished with value: 502.5484924316406 and parameters: {'num_units': 16, 'num_layers': 1, 'dropout_rate': 0.2545977599687691, 'learning_rate': 0.00011063378455531259, 'batch_size': 32, 'epochs': 100}. Best is trial 2 with value: 16.597192764282227.\n",
      "/home/imran/github space/OptimizationAlgo/ConferenceEnv/lib/python3.10/site-packages/keras/src/layers/rnn/rnn.py:200: UserWarning: Do not pass an `input_shape`/`input_dim` argument to a layer. When using Sequential models, prefer using an `Input(shape)` object as the first layer in the model instead.\n",
      "  super().__init__(**kwargs)\n"
     ]
    },
    {
     "name": "stdout",
     "output_type": "stream",
     "text": [
      "\u001b[1m10/10\u001b[0m \u001b[32m━━━━━━━━━━━━━━━━━━━━\u001b[0m\u001b[37m\u001b[0m \u001b[1m2s\u001b[0m 121ms/step\n"
     ]
    },
    {
     "name": "stderr",
     "output_type": "stream",
     "text": [
      "[I 2025-01-13 11:31:06,010] Trial 5 finished with value: 8.794139862060547 and parameters: {'num_units': 208, 'num_layers': 2, 'dropout_rate': 0.14177013906170421, 'learning_rate': 0.0003910387801777331, 'batch_size': 128, 'epochs': 100}. Best is trial 5 with value: 8.794139862060547.\n",
      "/home/imran/github space/OptimizationAlgo/ConferenceEnv/lib/python3.10/site-packages/keras/src/layers/rnn/rnn.py:200: UserWarning: Do not pass an `input_shape`/`input_dim` argument to a layer. When using Sequential models, prefer using an `Input(shape)` object as the first layer in the model instead.\n",
      "  super().__init__(**kwargs)\n"
     ]
    },
    {
     "name": "stdout",
     "output_type": "stream",
     "text": [
      "\u001b[1m10/10\u001b[0m \u001b[32m━━━━━━━━━━━━━━━━━━━━\u001b[0m\u001b[37m\u001b[0m \u001b[1m2s\u001b[0m 153ms/step\n"
     ]
    },
    {
     "name": "stderr",
     "output_type": "stream",
     "text": [
      "[I 2025-01-13 11:33:40,951] Trial 6 finished with value: 156.4988555908203 and parameters: {'num_units': 160, 'num_layers': 3, 'dropout_rate': 0.4430273413431065, 'learning_rate': 0.00011676933625757358, 'batch_size': 96, 'epochs': 40}. Best is trial 5 with value: 8.794139862060547.\n",
      "/home/imran/github space/OptimizationAlgo/ConferenceEnv/lib/python3.10/site-packages/keras/src/layers/rnn/rnn.py:200: UserWarning: Do not pass an `input_shape`/`input_dim` argument to a layer. When using Sequential models, prefer using an `Input(shape)` object as the first layer in the model instead.\n",
      "  super().__init__(**kwargs)\n"
     ]
    },
    {
     "name": "stdout",
     "output_type": "stream",
     "text": [
      "\u001b[1m10/10\u001b[0m \u001b[32m━━━━━━━━━━━━━━━━━━━━\u001b[0m\u001b[37m\u001b[0m \u001b[1m1s\u001b[0m 85ms/step\n"
     ]
    },
    {
     "name": "stderr",
     "output_type": "stream",
     "text": [
      "[I 2025-01-13 11:34:12,064] Trial 7 finished with value: 106.46019744873047 and parameters: {'num_units': 144, 'num_layers': 1, 'dropout_rate': 0.17039041041152692, 'learning_rate': 0.0014949454361561957, 'batch_size': 32, 'epochs': 20}. Best is trial 5 with value: 8.794139862060547.\n",
      "/home/imran/github space/OptimizationAlgo/ConferenceEnv/lib/python3.10/site-packages/keras/src/layers/rnn/rnn.py:200: UserWarning: Do not pass an `input_shape`/`input_dim` argument to a layer. When using Sequential models, prefer using an `Input(shape)` object as the first layer in the model instead.\n",
      "  super().__init__(**kwargs)\n"
     ]
    },
    {
     "name": "stdout",
     "output_type": "stream",
     "text": [
      "\u001b[1m10/10\u001b[0m \u001b[32m━━━━━━━━━━━━━━━━━━━━\u001b[0m\u001b[37m\u001b[0m \u001b[1m2s\u001b[0m 116ms/step\n"
     ]
    },
    {
     "name": "stderr",
     "output_type": "stream",
     "text": [
      "[I 2025-01-13 11:34:30,177] Trial 8 finished with value: 171.7790069580078 and parameters: {'num_units': 32, 'num_layers': 3, 'dropout_rate': 0.25598694756154156, 'learning_rate': 0.0049401853186803015, 'batch_size': 112, 'epochs': 10}. Best is trial 5 with value: 8.794139862060547.\n",
      "/home/imran/github space/OptimizationAlgo/ConferenceEnv/lib/python3.10/site-packages/keras/src/layers/rnn/rnn.py:200: UserWarning: Do not pass an `input_shape`/`input_dim` argument to a layer. When using Sequential models, prefer using an `Input(shape)` object as the first layer in the model instead.\n",
      "  super().__init__(**kwargs)\n"
     ]
    },
    {
     "name": "stdout",
     "output_type": "stream",
     "text": [
      "\u001b[1m10/10\u001b[0m \u001b[32m━━━━━━━━━━━━━━━━━━━━\u001b[0m\u001b[37m\u001b[0m \u001b[1m1s\u001b[0m 69ms/step\n"
     ]
    },
    {
     "name": "stderr",
     "output_type": "stream",
     "text": [
      "[I 2025-01-13 11:34:45,063] Trial 9 finished with value: 152.64146423339844 and parameters: {'num_units': 176, 'num_layers': 1, 'dropout_rate': 0.33658321230044486, 'learning_rate': 0.006225872546230961, 'batch_size': 112, 'epochs': 30}. Best is trial 5 with value: 8.794139862060547.\n",
      "/home/imran/github space/OptimizationAlgo/ConferenceEnv/lib/python3.10/site-packages/keras/src/layers/rnn/rnn.py:200: UserWarning: Do not pass an `input_shape`/`input_dim` argument to a layer. When using Sequential models, prefer using an `Input(shape)` object as the first layer in the model instead.\n",
      "  super().__init__(**kwargs)\n"
     ]
    },
    {
     "name": "stdout",
     "output_type": "stream",
     "text": [
      "\u001b[1m10/10\u001b[0m \u001b[32m━━━━━━━━━━━━━━━━━━━━\u001b[0m\u001b[37m\u001b[0m \u001b[1m2s\u001b[0m 181ms/step\n"
     ]
    },
    {
     "name": "stderr",
     "output_type": "stream",
     "text": [
      "[I 2025-01-13 11:38:54,902] Trial 10 finished with value: 12.617300033569336 and parameters: {'num_units': 224, 'num_layers': 2, 'dropout_rate': 0.11872993879098248, 'learning_rate': 0.0004838675365850778, 'batch_size': 64, 'epochs': 70}. Best is trial 5 with value: 8.794139862060547.\n",
      "/home/imran/github space/OptimizationAlgo/ConferenceEnv/lib/python3.10/site-packages/keras/src/layers/rnn/rnn.py:200: UserWarning: Do not pass an `input_shape`/`input_dim` argument to a layer. When using Sequential models, prefer using an `Input(shape)` object as the first layer in the model instead.\n",
      "  super().__init__(**kwargs)\n"
     ]
    },
    {
     "name": "stdout",
     "output_type": "stream",
     "text": [
      "\u001b[1m10/10\u001b[0m \u001b[32m━━━━━━━━━━━━━━━━━━━━\u001b[0m\u001b[37m\u001b[0m \u001b[1m3s\u001b[0m 174ms/step\n"
     ]
    },
    {
     "name": "stderr",
     "output_type": "stream",
     "text": [
      "[I 2025-01-13 11:42:53,429] Trial 11 finished with value: 12.790966033935547 and parameters: {'num_units': 224, 'num_layers': 2, 'dropout_rate': 0.10189869225672776, 'learning_rate': 0.0005414281704708538, 'batch_size': 64, 'epochs': 70}. Best is trial 5 with value: 8.794139862060547.\n",
      "/home/imran/github space/OptimizationAlgo/ConferenceEnv/lib/python3.10/site-packages/keras/src/layers/rnn/rnn.py:200: UserWarning: Do not pass an `input_shape`/`input_dim` argument to a layer. When using Sequential models, prefer using an `Input(shape)` object as the first layer in the model instead.\n",
      "  super().__init__(**kwargs)\n"
     ]
    },
    {
     "name": "stdout",
     "output_type": "stream",
     "text": [
      "\u001b[1m10/10\u001b[0m \u001b[32m━━━━━━━━━━━━━━━━━━━━\u001b[0m\u001b[37m\u001b[0m \u001b[1m3s\u001b[0m 174ms/step\n"
     ]
    },
    {
     "name": "stderr",
     "output_type": "stream",
     "text": [
      "[I 2025-01-13 11:46:57,614] Trial 12 finished with value: 9.772314071655273 and parameters: {'num_units': 224, 'num_layers': 2, 'dropout_rate': 0.10134004732981447, 'learning_rate': 0.0003802965790884047, 'batch_size': 64, 'epochs': 80}. Best is trial 5 with value: 8.794139862060547.\n",
      "/home/imran/github space/OptimizationAlgo/ConferenceEnv/lib/python3.10/site-packages/keras/src/layers/rnn/rnn.py:200: UserWarning: Do not pass an `input_shape`/`input_dim` argument to a layer. When using Sequential models, prefer using an `Input(shape)` object as the first layer in the model instead.\n",
      "  super().__init__(**kwargs)\n"
     ]
    },
    {
     "name": "stdout",
     "output_type": "stream",
     "text": [
      "\u001b[1m10/10\u001b[0m \u001b[32m━━━━━━━━━━━━━━━━━━━━\u001b[0m\u001b[37m\u001b[0m \u001b[1m2s\u001b[0m 101ms/step\n"
     ]
    },
    {
     "name": "stderr",
     "output_type": "stream",
     "text": [
      "[I 2025-01-13 11:48:36,315] Trial 13 finished with value: 100.08141326904297 and parameters: {'num_units': 80, 'num_layers': 2, 'dropout_rate': 0.3443170053524472, 'learning_rate': 0.0002468507799278272, 'batch_size': 80, 'epochs': 90}. Best is trial 5 with value: 8.794139862060547.\n",
      "/home/imran/github space/OptimizationAlgo/ConferenceEnv/lib/python3.10/site-packages/keras/src/layers/rnn/rnn.py:200: UserWarning: Do not pass an `input_shape`/`input_dim` argument to a layer. When using Sequential models, prefer using an `Input(shape)` object as the first layer in the model instead.\n",
      "  super().__init__(**kwargs)\n"
     ]
    },
    {
     "name": "stdout",
     "output_type": "stream",
     "text": [
      "\u001b[1m10/10\u001b[0m \u001b[32m━━━━━━━━━━━━━━━━━━━━\u001b[0m\u001b[37m\u001b[0m \u001b[1m1s\u001b[0m 94ms/step\n"
     ]
    },
    {
     "name": "stderr",
     "output_type": "stream",
     "text": [
      "[I 2025-01-13 11:49:14,873] Trial 14 finished with value: 152.2548828125 and parameters: {'num_units': 208, 'num_layers': 2, 'dropout_rate': 0.21196467366764324, 'learning_rate': 0.001176005086616002, 'batch_size': 128, 'epochs': 80}. Best is trial 5 with value: 8.794139862060547.\n",
      "/home/imran/github space/OptimizationAlgo/ConferenceEnv/lib/python3.10/site-packages/keras/src/layers/rnn/rnn.py:200: UserWarning: Do not pass an `input_shape`/`input_dim` argument to a layer. When using Sequential models, prefer using an `Input(shape)` object as the first layer in the model instead.\n",
      "  super().__init__(**kwargs)\n"
     ]
    },
    {
     "name": "stdout",
     "output_type": "stream",
     "text": [
      "\u001b[1m10/10\u001b[0m \u001b[32m━━━━━━━━━━━━━━━━━━━━\u001b[0m\u001b[37m\u001b[0m \u001b[1m2s\u001b[0m 102ms/step\n"
     ]
    },
    {
     "name": "stderr",
     "output_type": "stream",
     "text": [
      "[I 2025-01-13 11:52:15,629] Trial 15 finished with value: 8.538989067077637 and parameters: {'num_units': 96, 'num_layers': 2, 'dropout_rate': 0.14310311885241903, 'learning_rate': 0.0002352362187582648, 'batch_size': 16, 'epochs': 90}. Best is trial 15 with value: 8.538989067077637.\n",
      "/home/imran/github space/OptimizationAlgo/ConferenceEnv/lib/python3.10/site-packages/keras/src/layers/rnn/rnn.py:200: UserWarning: Do not pass an `input_shape`/`input_dim` argument to a layer. When using Sequential models, prefer using an `Input(shape)` object as the first layer in the model instead.\n",
      "  super().__init__(**kwargs)\n"
     ]
    },
    {
     "name": "stdout",
     "output_type": "stream",
     "text": [
      "\u001b[1m10/10\u001b[0m \u001b[32m━━━━━━━━━━━━━━━━━━━━\u001b[0m\u001b[37m\u001b[0m \u001b[1m2s\u001b[0m 112ms/step\n"
     ]
    },
    {
     "name": "stderr",
     "output_type": "stream",
     "text": [
      "[I 2025-01-13 11:54:42,878] Trial 16 finished with value: 13.634037971496582 and parameters: {'num_units': 96, 'num_layers': 2, 'dropout_rate': 0.48885490416059973, 'learning_rate': 0.0002213333556335092, 'batch_size': 16, 'epochs': 100}. Best is trial 15 with value: 8.538989067077637.\n",
      "/home/imran/github space/OptimizationAlgo/ConferenceEnv/lib/python3.10/site-packages/keras/src/layers/rnn/rnn.py:200: UserWarning: Do not pass an `input_shape`/`input_dim` argument to a layer. When using Sequential models, prefer using an `Input(shape)` object as the first layer in the model instead.\n",
      "  super().__init__(**kwargs)\n"
     ]
    },
    {
     "name": "stdout",
     "output_type": "stream",
     "text": [
      "\u001b[1m10/10\u001b[0m \u001b[32m━━━━━━━━━━━━━━━━━━━━\u001b[0m\u001b[37m\u001b[0m \u001b[1m1s\u001b[0m 53ms/step\n"
     ]
    },
    {
     "name": "stderr",
     "output_type": "stream",
     "text": [
      "[I 2025-01-13 11:55:46,227] Trial 17 finished with value: 14.102981567382812 and parameters: {'num_units': 96, 'num_layers': 1, 'dropout_rate': 0.31946618763783063, 'learning_rate': 0.0009268735351403292, 'batch_size': 16, 'epochs': 50}. Best is trial 15 with value: 8.538989067077637.\n",
      "/home/imran/github space/OptimizationAlgo/ConferenceEnv/lib/python3.10/site-packages/keras/src/layers/rnn/rnn.py:200: UserWarning: Do not pass an `input_shape`/`input_dim` argument to a layer. When using Sequential models, prefer using an `Input(shape)` object as the first layer in the model instead.\n",
      "  super().__init__(**kwargs)\n"
     ]
    },
    {
     "name": "stdout",
     "output_type": "stream",
     "text": [
      "\u001b[1m10/10\u001b[0m \u001b[32m━━━━━━━━━━━━━━━━━━━━\u001b[0m\u001b[37m\u001b[0m \u001b[1m2s\u001b[0m 104ms/step\n"
     ]
    },
    {
     "name": "stderr",
     "output_type": "stream",
     "text": [
      "[I 2025-01-13 11:57:33,843] Trial 18 finished with value: 164.14186096191406 and parameters: {'num_units': 64, 'num_layers': 3, 'dropout_rate': 0.16307109472444128, 'learning_rate': 0.0002155311050716088, 'batch_size': 96, 'epochs': 90}. Best is trial 15 with value: 8.538989067077637.\n",
      "/home/imran/github space/OptimizationAlgo/ConferenceEnv/lib/python3.10/site-packages/keras/src/layers/rnn/rnn.py:200: UserWarning: Do not pass an `input_shape`/`input_dim` argument to a layer. When using Sequential models, prefer using an `Input(shape)` object as the first layer in the model instead.\n",
      "  super().__init__(**kwargs)\n"
     ]
    },
    {
     "name": "stdout",
     "output_type": "stream",
     "text": [
      "\u001b[1m10/10\u001b[0m \u001b[32m━━━━━━━━━━━━━━━━━━━━\u001b[0m\u001b[37m\u001b[0m \u001b[1m1s\u001b[0m 71ms/step\n"
     ]
    },
    {
     "name": "stderr",
     "output_type": "stream",
     "text": [
      "[I 2025-01-13 11:57:52,658] Trial 19 finished with value: 152.29075622558594 and parameters: {'num_units': 112, 'num_layers': 2, 'dropout_rate': 0.21877527340015235, 'learning_rate': 0.0024399818615124164, 'batch_size': 48, 'epochs': 90}. Best is trial 15 with value: 8.538989067077637.\n",
      "/home/imran/github space/OptimizationAlgo/ConferenceEnv/lib/python3.10/site-packages/keras/src/layers/rnn/rnn.py:200: UserWarning: Do not pass an `input_shape`/`input_dim` argument to a layer. When using Sequential models, prefer using an `Input(shape)` object as the first layer in the model instead.\n",
      "  super().__init__(**kwargs)\n"
     ]
    },
    {
     "name": "stdout",
     "output_type": "stream",
     "text": [
      "\u001b[1m10/10\u001b[0m \u001b[32m━━━━━━━━━━━━━━━━━━━━\u001b[0m\u001b[37m\u001b[0m \u001b[1m2s\u001b[0m 127ms/step\n"
     ]
    },
    {
     "name": "stderr",
     "output_type": "stream",
     "text": [
      "[I 2025-01-13 11:59:21,999] Trial 20 finished with value: 64.9163589477539 and parameters: {'num_units': 112, 'num_layers': 2, 'dropout_rate': 0.2887405092834888, 'learning_rate': 0.0007160998410898674, 'batch_size': 96, 'epochs': 60}. Best is trial 15 with value: 8.538989067077637.\n",
      "/home/imran/github space/OptimizationAlgo/ConferenceEnv/lib/python3.10/site-packages/keras/src/layers/rnn/rnn.py:200: UserWarning: Do not pass an `input_shape`/`input_dim` argument to a layer. When using Sequential models, prefer using an `Input(shape)` object as the first layer in the model instead.\n",
      "  super().__init__(**kwargs)\n"
     ]
    },
    {
     "name": "stdout",
     "output_type": "stream",
     "text": [
      "\u001b[1m10/10\u001b[0m \u001b[32m━━━━━━━━━━━━━━━━━━━━\u001b[0m\u001b[37m\u001b[0m \u001b[1m3s\u001b[0m 185ms/step\n"
     ]
    },
    {
     "name": "stderr",
     "output_type": "stream",
     "text": [
      "[I 2025-01-13 12:03:55,960] Trial 21 finished with value: 8.94539737701416 and parameters: {'num_units': 192, 'num_layers': 2, 'dropout_rate': 0.13225751964185178, 'learning_rate': 0.00040360108552221405, 'batch_size': 48, 'epochs': 80}. Best is trial 15 with value: 8.538989067077637.\n",
      "/home/imran/github space/OptimizationAlgo/ConferenceEnv/lib/python3.10/site-packages/keras/src/layers/rnn/rnn.py:200: UserWarning: Do not pass an `input_shape`/`input_dim` argument to a layer. When using Sequential models, prefer using an `Input(shape)` object as the first layer in the model instead.\n",
      "  super().__init__(**kwargs)\n"
     ]
    },
    {
     "name": "stdout",
     "output_type": "stream",
     "text": [
      "\u001b[1m10/10\u001b[0m \u001b[32m━━━━━━━━━━━━━━━━━━━━\u001b[0m\u001b[37m\u001b[0m \u001b[1m3s\u001b[0m 262ms/step\n"
     ]
    },
    {
     "name": "stderr",
     "output_type": "stream",
     "text": [
      "[I 2025-01-13 12:07:19,386] Trial 22 finished with value: 22.28600311279297 and parameters: {'num_units': 192, 'num_layers': 2, 'dropout_rate': 0.1306926627696053, 'learning_rate': 0.00017730648920080266, 'batch_size': 48, 'epochs': 90}. Best is trial 15 with value: 8.538989067077637.\n",
      "/home/imran/github space/OptimizationAlgo/ConferenceEnv/lib/python3.10/site-packages/keras/src/layers/rnn/rnn.py:200: UserWarning: Do not pass an `input_shape`/`input_dim` argument to a layer. When using Sequential models, prefer using an `Input(shape)` object as the first layer in the model instead.\n",
      "  super().__init__(**kwargs)\n"
     ]
    },
    {
     "name": "stdout",
     "output_type": "stream",
     "text": [
      "\u001b[1m10/10\u001b[0m \u001b[32m━━━━━━━━━━━━━━━━━━━━\u001b[0m\u001b[37m\u001b[0m \u001b[1m2s\u001b[0m 144ms/step\n"
     ]
    },
    {
     "name": "stderr",
     "output_type": "stream",
     "text": [
      "[I 2025-01-13 12:10:33,670] Trial 23 finished with value: 10.18084716796875 and parameters: {'num_units': 144, 'num_layers': 2, 'dropout_rate': 0.1821275454256295, 'learning_rate': 0.0003391043883327584, 'batch_size': 16, 'epochs': 70}. Best is trial 15 with value: 8.538989067077637.\n",
      "/home/imran/github space/OptimizationAlgo/ConferenceEnv/lib/python3.10/site-packages/keras/src/layers/rnn/rnn.py:200: UserWarning: Do not pass an `input_shape`/`input_dim` argument to a layer. When using Sequential models, prefer using an `Input(shape)` object as the first layer in the model instead.\n",
      "  super().__init__(**kwargs)\n"
     ]
    },
    {
     "name": "stdout",
     "output_type": "stream",
     "text": [
      "\u001b[1m10/10\u001b[0m \u001b[32m━━━━━━━━━━━━━━━━━━━━\u001b[0m\u001b[37m\u001b[0m \u001b[1m2s\u001b[0m 163ms/step\n"
     ]
    },
    {
     "name": "stderr",
     "output_type": "stream",
     "text": [
      "[I 2025-01-13 12:14:06,659] Trial 24 finished with value: 11.815962791442871 and parameters: {'num_units': 192, 'num_layers': 2, 'dropout_rate': 0.14443501415115562, 'learning_rate': 0.0006746287805115762, 'batch_size': 32, 'epochs': 100}. Best is trial 15 with value: 8.538989067077637.\n",
      "/home/imran/github space/OptimizationAlgo/ConferenceEnv/lib/python3.10/site-packages/keras/src/layers/rnn/rnn.py:200: UserWarning: Do not pass an `input_shape`/`input_dim` argument to a layer. When using Sequential models, prefer using an `Input(shape)` object as the first layer in the model instead.\n",
      "  super().__init__(**kwargs)\n"
     ]
    },
    {
     "name": "stdout",
     "output_type": "stream",
     "text": [
      "\u001b[1m10/10\u001b[0m \u001b[32m━━━━━━━━━━━━━━━━━━━━\u001b[0m\u001b[37m\u001b[0m \u001b[1m1s\u001b[0m 71ms/step\n"
     ]
    },
    {
     "name": "stderr",
     "output_type": "stream",
     "text": [
      "[I 2025-01-13 12:15:55,967] Trial 25 finished with value: 15.895482063293457 and parameters: {'num_units': 176, 'num_layers': 1, 'dropout_rate': 0.21836496899999353, 'learning_rate': 0.00017688659568308433, 'batch_size': 48, 'epochs': 80}. Best is trial 15 with value: 8.538989067077637.\n",
      "/home/imran/github space/OptimizationAlgo/ConferenceEnv/lib/python3.10/site-packages/keras/src/layers/rnn/rnn.py:200: UserWarning: Do not pass an `input_shape`/`input_dim` argument to a layer. When using Sequential models, prefer using an `Input(shape)` object as the first layer in the model instead.\n",
      "  super().__init__(**kwargs)\n"
     ]
    },
    {
     "name": "stdout",
     "output_type": "stream",
     "text": [
      "\u001b[1m10/10\u001b[0m \u001b[32m━━━━━━━━━━━━━━━━━━━━\u001b[0m\u001b[37m\u001b[0m \u001b[1m3s\u001b[0m 204ms/step\n"
     ]
    },
    {
     "name": "stderr",
     "output_type": "stream",
     "text": [
      "[I 2025-01-13 12:20:35,591] Trial 26 finished with value: 16.973962783813477 and parameters: {'num_units': 128, 'num_layers': 3, 'dropout_rate': 0.13733313372630976, 'learning_rate': 0.00032794970739457696, 'batch_size': 80, 'epochs': 90}. Best is trial 15 with value: 8.538989067077637.\n",
      "/home/imran/github space/OptimizationAlgo/ConferenceEnv/lib/python3.10/site-packages/keras/src/layers/rnn/rnn.py:200: UserWarning: Do not pass an `input_shape`/`input_dim` argument to a layer. When using Sequential models, prefer using an `Input(shape)` object as the first layer in the model instead.\n",
      "  super().__init__(**kwargs)\n"
     ]
    },
    {
     "name": "stdout",
     "output_type": "stream",
     "text": [
      "\u001b[1m10/10\u001b[0m \u001b[32m━━━━━━━━━━━━━━━━━━━━\u001b[0m\u001b[37m\u001b[0m \u001b[1m2s\u001b[0m 167ms/step\n"
     ]
    },
    {
     "name": "stderr",
     "output_type": "stream",
     "text": [
      "[I 2025-01-13 12:21:55,278] Trial 27 finished with value: 152.68771362304688 and parameters: {'num_units': 208, 'num_layers': 2, 'dropout_rate': 0.37465774958881987, 'learning_rate': 0.0019101587350707466, 'batch_size': 16, 'epochs': 100}. Best is trial 15 with value: 8.538989067077637.\n",
      "/home/imran/github space/OptimizationAlgo/ConferenceEnv/lib/python3.10/site-packages/keras/src/layers/rnn/rnn.py:200: UserWarning: Do not pass an `input_shape`/`input_dim` argument to a layer. When using Sequential models, prefer using an `Input(shape)` object as the first layer in the model instead.\n",
      "  super().__init__(**kwargs)\n"
     ]
    },
    {
     "name": "stdout",
     "output_type": "stream",
     "text": [
      "\u001b[1m10/10\u001b[0m \u001b[32m━━━━━━━━━━━━━━━━━━━━\u001b[0m\u001b[37m\u001b[0m \u001b[1m2s\u001b[0m 97ms/step\n"
     ]
    },
    {
     "name": "stderr",
     "output_type": "stream",
     "text": [
      "[I 2025-01-13 12:22:57,771] Trial 28 finished with value: 128.4215087890625 and parameters: {'num_units': 80, 'num_layers': 2, 'dropout_rate': 0.183983530101852, 'learning_rate': 0.0004915176743227987, 'batch_size': 112, 'epochs': 70}. Best is trial 15 with value: 8.538989067077637.\n",
      "/home/imran/github space/OptimizationAlgo/ConferenceEnv/lib/python3.10/site-packages/keras/src/layers/rnn/rnn.py:200: UserWarning: Do not pass an `input_shape`/`input_dim` argument to a layer. When using Sequential models, prefer using an `Input(shape)` object as the first layer in the model instead.\n",
      "  super().__init__(**kwargs)\n"
     ]
    },
    {
     "name": "stdout",
     "output_type": "stream",
     "text": [
      "\u001b[1m10/10\u001b[0m \u001b[32m━━━━━━━━━━━━━━━━━━━━\u001b[0m\u001b[37m\u001b[0m \u001b[1m1s\u001b[0m 94ms/step\n"
     ]
    },
    {
     "name": "stderr",
     "output_type": "stream",
     "text": [
      "[I 2025-01-13 12:24:06,800] Trial 29 finished with value: 28.893203735351562 and parameters: {'num_units': 192, 'num_layers': 1, 'dropout_rate': 0.20424087637040433, 'learning_rate': 0.0008712252046106958, 'batch_size': 32, 'epochs': 100}. Best is trial 15 with value: 8.538989067077637.\n",
      "/home/imran/github space/OptimizationAlgo/ConferenceEnv/lib/python3.10/site-packages/keras/src/layers/rnn/rnn.py:200: UserWarning: Do not pass an `input_shape`/`input_dim` argument to a layer. When using Sequential models, prefer using an `Input(shape)` object as the first layer in the model instead.\n",
      "  super().__init__(**kwargs)\n"
     ]
    },
    {
     "name": "stdout",
     "output_type": "stream",
     "text": [
      "\u001b[1m10/10\u001b[0m \u001b[32m━━━━━━━━━━━━━━━━━━━━\u001b[0m\u001b[37m\u001b[0m \u001b[1m2s\u001b[0m 149ms/step\n"
     ]
    },
    {
     "name": "stderr",
     "output_type": "stream",
     "text": [
      "[I 2025-01-13 12:26:43,174] Trial 30 finished with value: 102.7384262084961 and parameters: {'num_units': 160, 'num_layers': 3, 'dropout_rate': 0.2869207369185392, 'learning_rate': 0.00015657647897076156, 'batch_size': 80, 'epochs': 50}. Best is trial 15 with value: 8.538989067077637.\n",
      "/home/imran/github space/OptimizationAlgo/ConferenceEnv/lib/python3.10/site-packages/keras/src/layers/rnn/rnn.py:200: UserWarning: Do not pass an `input_shape`/`input_dim` argument to a layer. When using Sequential models, prefer using an `Input(shape)` object as the first layer in the model instead.\n",
      "  super().__init__(**kwargs)\n"
     ]
    },
    {
     "name": "stdout",
     "output_type": "stream",
     "text": [
      "\u001b[1m10/10\u001b[0m \u001b[32m━━━━━━━━━━━━━━━━━━━━\u001b[0m\u001b[37m\u001b[0m \u001b[1m2s\u001b[0m 176ms/step\n"
     ]
    },
    {
     "name": "stderr",
     "output_type": "stream",
     "text": [
      "[I 2025-01-13 12:31:10,321] Trial 31 finished with value: 8.990277290344238 and parameters: {'num_units': 224, 'num_layers': 2, 'dropout_rate': 0.10098534469074928, 'learning_rate': 0.0002814326190834275, 'batch_size': 64, 'epochs': 80}. Best is trial 15 with value: 8.538989067077637.\n",
      "/home/imran/github space/OptimizationAlgo/ConferenceEnv/lib/python3.10/site-packages/keras/src/layers/rnn/rnn.py:200: UserWarning: Do not pass an `input_shape`/`input_dim` argument to a layer. When using Sequential models, prefer using an `Input(shape)` object as the first layer in the model instead.\n",
      "  super().__init__(**kwargs)\n"
     ]
    },
    {
     "name": "stdout",
     "output_type": "stream",
     "text": [
      "\u001b[1m10/10\u001b[0m \u001b[32m━━━━━━━━━━━━━━━━━━━━\u001b[0m\u001b[37m\u001b[0m \u001b[1m2s\u001b[0m 165ms/step\n"
     ]
    },
    {
     "name": "stderr",
     "output_type": "stream",
     "text": [
      "[I 2025-01-13 12:34:48,068] Trial 32 finished with value: 10.39826488494873 and parameters: {'num_units': 208, 'num_layers': 2, 'dropout_rate': 0.12178072714378659, 'learning_rate': 0.00027311321822728765, 'batch_size': 64, 'epochs': 80}. Best is trial 15 with value: 8.538989067077637.\n",
      "/home/imran/github space/OptimizationAlgo/ConferenceEnv/lib/python3.10/site-packages/keras/src/layers/rnn/rnn.py:200: UserWarning: Do not pass an `input_shape`/`input_dim` argument to a layer. When using Sequential models, prefer using an `Input(shape)` object as the first layer in the model instead.\n",
      "  super().__init__(**kwargs)\n"
     ]
    },
    {
     "name": "stdout",
     "output_type": "stream",
     "text": [
      "\u001b[1m10/10\u001b[0m \u001b[32m━━━━━━━━━━━━━━━━━━━━\u001b[0m\u001b[37m\u001b[0m \u001b[1m2s\u001b[0m 170ms/step\n"
     ]
    },
    {
     "name": "stderr",
     "output_type": "stream",
     "text": [
      "[I 2025-01-13 12:37:29,072] Trial 33 finished with value: 18.16253089904785 and parameters: {'num_units': 208, 'num_layers': 2, 'dropout_rate': 0.14789483273795628, 'learning_rate': 0.00042960014009073424, 'batch_size': 48, 'epochs': 60}. Best is trial 15 with value: 8.538989067077637.\n",
      "/home/imran/github space/OptimizationAlgo/ConferenceEnv/lib/python3.10/site-packages/keras/src/layers/rnn/rnn.py:200: UserWarning: Do not pass an `input_shape`/`input_dim` argument to a layer. When using Sequential models, prefer using an `Input(shape)` object as the first layer in the model instead.\n",
      "  super().__init__(**kwargs)\n"
     ]
    },
    {
     "name": "stdout",
     "output_type": "stream",
     "text": [
      "\u001b[1m10/10\u001b[0m \u001b[32m━━━━━━━━━━━━━━━━━━━━\u001b[0m\u001b[37m\u001b[0m \u001b[1m2s\u001b[0m 156ms/step\n"
     ]
    },
    {
     "name": "stderr",
     "output_type": "stream",
     "text": [
      "[I 2025-01-13 12:40:28,966] Trial 34 finished with value: 14.039552688598633 and parameters: {'num_units': 176, 'num_layers': 2, 'dropout_rate': 0.1619715458381702, 'learning_rate': 0.00028671683013490093, 'batch_size': 48, 'epochs': 90}. Best is trial 15 with value: 8.538989067077637.\n",
      "/home/imran/github space/OptimizationAlgo/ConferenceEnv/lib/python3.10/site-packages/keras/src/layers/rnn/rnn.py:200: UserWarning: Do not pass an `input_shape`/`input_dim` argument to a layer. When using Sequential models, prefer using an `Input(shape)` object as the first layer in the model instead.\n",
      "  super().__init__(**kwargs)\n"
     ]
    },
    {
     "name": "stdout",
     "output_type": "stream",
     "text": [
      "\u001b[1m10/10\u001b[0m \u001b[32m━━━━━━━━━━━━━━━━━━━━\u001b[0m\u001b[37m\u001b[0m \u001b[1m2s\u001b[0m 176ms/step\n"
     ]
    },
    {
     "name": "stderr",
     "output_type": "stream",
     "text": [
      "[I 2025-01-13 12:46:30,411] Trial 35 finished with value: 9.453450202941895 and parameters: {'num_units': 224, 'num_layers': 2, 'dropout_rate': 0.1059612376622655, 'learning_rate': 0.0001511674858151422, 'batch_size': 64, 'epochs': 80}. Best is trial 15 with value: 8.538989067077637.\n",
      "/home/imran/github space/OptimizationAlgo/ConferenceEnv/lib/python3.10/site-packages/keras/src/layers/rnn/rnn.py:200: UserWarning: Do not pass an `input_shape`/`input_dim` argument to a layer. When using Sequential models, prefer using an `Input(shape)` object as the first layer in the model instead.\n",
      "  super().__init__(**kwargs)\n"
     ]
    },
    {
     "name": "stdout",
     "output_type": "stream",
     "text": [
      "\u001b[1m10/10\u001b[0m \u001b[32m━━━━━━━━━━━━━━━━━━━━\u001b[0m\u001b[37m\u001b[0m \u001b[1m1s\u001b[0m 74ms/step\n"
     ]
    },
    {
     "name": "stderr",
     "output_type": "stream",
     "text": [
      "[I 2025-01-13 12:47:28,389] Trial 36 finished with value: 94.92032623291016 and parameters: {'num_units': 48, 'num_layers': 2, 'dropout_rate': 0.19205536041807342, 'learning_rate': 0.0006078544032113508, 'batch_size': 80, 'epochs': 100}. Best is trial 15 with value: 8.538989067077637.\n",
      "/home/imran/github space/OptimizationAlgo/ConferenceEnv/lib/python3.10/site-packages/keras/src/layers/rnn/rnn.py:200: UserWarning: Do not pass an `input_shape`/`input_dim` argument to a layer. When using Sequential models, prefer using an `Input(shape)` object as the first layer in the model instead.\n",
      "  super().__init__(**kwargs)\n"
     ]
    },
    {
     "name": "stdout",
     "output_type": "stream",
     "text": [
      "\u001b[1m10/10\u001b[0m \u001b[32m━━━━━━━━━━━━━━━━━━━━\u001b[0m\u001b[37m\u001b[0m \u001b[1m2s\u001b[0m 143ms/step\n"
     ]
    },
    {
     "name": "stderr",
     "output_type": "stream",
     "text": [
      "[I 2025-01-13 12:48:08,552] Trial 37 finished with value: 153.07989501953125 and parameters: {'num_units': 144, 'num_layers': 2, 'dropout_rate': 0.1305749769437247, 'learning_rate': 0.009168903396833511, 'batch_size': 32, 'epochs': 90}. Best is trial 15 with value: 8.538989067077637.\n",
      "/home/imran/github space/OptimizationAlgo/ConferenceEnv/lib/python3.10/site-packages/keras/src/layers/rnn/rnn.py:200: UserWarning: Do not pass an `input_shape`/`input_dim` argument to a layer. When using Sequential models, prefer using an `Input(shape)` object as the first layer in the model instead.\n",
      "  super().__init__(**kwargs)\n"
     ]
    },
    {
     "name": "stdout",
     "output_type": "stream",
     "text": [
      "\u001b[1m10/10\u001b[0m \u001b[32m━━━━━━━━━━━━━━━━━━━━\u001b[0m\u001b[37m\u001b[0m \u001b[1m3s\u001b[0m 237ms/step\n"
     ]
    },
    {
     "name": "stderr",
     "output_type": "stream",
     "text": [
      "[I 2025-01-13 12:53:23,231] Trial 38 finished with value: 11.625 and parameters: {'num_units': 192, 'num_layers': 3, 'dropout_rate': 0.24914798829450535, 'learning_rate': 0.0003985221889391516, 'batch_size': 96, 'epochs': 70}. Best is trial 15 with value: 8.538989067077637.\n",
      "/home/imran/github space/OptimizationAlgo/ConferenceEnv/lib/python3.10/site-packages/keras/src/layers/rnn/rnn.py:200: UserWarning: Do not pass an `input_shape`/`input_dim` argument to a layer. When using Sequential models, prefer using an `Input(shape)` object as the first layer in the model instead.\n",
      "  super().__init__(**kwargs)\n"
     ]
    },
    {
     "name": "stdout",
     "output_type": "stream",
     "text": [
      "\u001b[1m10/10\u001b[0m \u001b[32m━━━━━━━━━━━━━━━━━━━━\u001b[0m\u001b[37m\u001b[0m \u001b[1m1s\u001b[0m 102ms/step\n"
     ]
    },
    {
     "name": "stderr",
     "output_type": "stream",
     "text": [
      "[I 2025-01-13 12:55:16,575] Trial 39 finished with value: 11.78696346282959 and parameters: {'num_units': 160, 'num_layers': 1, 'dropout_rate': 0.17349601968773085, 'learning_rate': 0.00012961242541609808, 'batch_size': 32, 'epochs': 80}. Best is trial 15 with value: 8.538989067077637.\n",
      "/home/imran/github space/OptimizationAlgo/ConferenceEnv/lib/python3.10/site-packages/keras/src/layers/rnn/rnn.py:200: UserWarning: Do not pass an `input_shape`/`input_dim` argument to a layer. When using Sequential models, prefer using an `Input(shape)` object as the first layer in the model instead.\n",
      "  super().__init__(**kwargs)\n"
     ]
    },
    {
     "name": "stdout",
     "output_type": "stream",
     "text": [
      "\u001b[1m10/10\u001b[0m \u001b[32m━━━━━━━━━━━━━━━━━━━━\u001b[0m\u001b[37m\u001b[0m \u001b[1m3s\u001b[0m 238ms/step\n"
     ]
    },
    {
     "name": "stderr",
     "output_type": "stream",
     "text": [
      "[I 2025-01-13 13:04:18,199] Trial 40 finished with value: 14.690492630004883 and parameters: {'num_units': 208, 'num_layers': 3, 'dropout_rate': 0.15559247899619788, 'learning_rate': 0.00019444705041364848, 'batch_size': 128, 'epochs': 100}. Best is trial 15 with value: 8.538989067077637.\n",
      "/home/imran/github space/OptimizationAlgo/ConferenceEnv/lib/python3.10/site-packages/keras/src/layers/rnn/rnn.py:200: UserWarning: Do not pass an `input_shape`/`input_dim` argument to a layer. When using Sequential models, prefer using an `Input(shape)` object as the first layer in the model instead.\n",
      "  super().__init__(**kwargs)\n"
     ]
    },
    {
     "name": "stdout",
     "output_type": "stream",
     "text": [
      "\u001b[1m10/10\u001b[0m \u001b[32m━━━━━━━━━━━━━━━━━━━━\u001b[0m\u001b[37m\u001b[0m \u001b[1m2s\u001b[0m 120ms/step\n"
     ]
    },
    {
     "name": "stderr",
     "output_type": "stream",
     "text": [
      "[I 2025-01-13 13:10:18,286] Trial 41 finished with value: 9.079008102416992 and parameters: {'num_units': 224, 'num_layers': 2, 'dropout_rate': 0.10172288442859845, 'learning_rate': 0.00014801222480215727, 'batch_size': 64, 'epochs': 80}. Best is trial 15 with value: 8.538989067077637.\n",
      "/home/imran/github space/OptimizationAlgo/ConferenceEnv/lib/python3.10/site-packages/keras/src/layers/rnn/rnn.py:200: UserWarning: Do not pass an `input_shape`/`input_dim` argument to a layer. When using Sequential models, prefer using an `Input(shape)` object as the first layer in the model instead.\n",
      "  super().__init__(**kwargs)\n"
     ]
    },
    {
     "name": "stdout",
     "output_type": "stream",
     "text": [
      "\u001b[1m10/10\u001b[0m \u001b[32m━━━━━━━━━━━━━━━━━━━━\u001b[0m\u001b[37m\u001b[0m \u001b[1m2s\u001b[0m 168ms/step\n"
     ]
    },
    {
     "name": "stderr",
     "output_type": "stream",
     "text": [
      "[I 2025-01-13 13:15:37,496] Trial 42 finished with value: 15.639434814453125 and parameters: {'num_units': 224, 'num_layers': 2, 'dropout_rate': 0.1190175371015954, 'learning_rate': 0.00010663917525878659, 'batch_size': 64, 'epochs': 80}. Best is trial 15 with value: 8.538989067077637.\n",
      "/home/imran/github space/OptimizationAlgo/ConferenceEnv/lib/python3.10/site-packages/keras/src/layers/rnn/rnn.py:200: UserWarning: Do not pass an `input_shape`/`input_dim` argument to a layer. When using Sequential models, prefer using an `Input(shape)` object as the first layer in the model instead.\n",
      "  super().__init__(**kwargs)\n"
     ]
    },
    {
     "name": "stdout",
     "output_type": "stream",
     "text": [
      "\u001b[1m10/10\u001b[0m \u001b[32m━━━━━━━━━━━━━━━━━━━━\u001b[0m\u001b[37m\u001b[0m \u001b[1m2s\u001b[0m 133ms/step\n"
     ]
    },
    {
     "name": "stderr",
     "output_type": "stream",
     "text": [
      "[I 2025-01-13 13:20:51,737] Trial 43 finished with value: 13.734869003295898 and parameters: {'num_units': 224, 'num_layers': 2, 'dropout_rate': 0.10493709895927081, 'learning_rate': 0.00014202253148302665, 'batch_size': 64, 'epochs': 70}. Best is trial 15 with value: 8.538989067077637.\n",
      "/home/imran/github space/OptimizationAlgo/ConferenceEnv/lib/python3.10/site-packages/keras/src/layers/rnn/rnn.py:200: UserWarning: Do not pass an `input_shape`/`input_dim` argument to a layer. When using Sequential models, prefer using an `Input(shape)` object as the first layer in the model instead.\n",
      "  super().__init__(**kwargs)\n"
     ]
    },
    {
     "name": "stdout",
     "output_type": "stream",
     "text": [
      "\u001b[1m10/10\u001b[0m \u001b[32m━━━━━━━━━━━━━━━━━━━━\u001b[0m\u001b[37m\u001b[0m \u001b[1m4s\u001b[0m 260ms/step\n"
     ]
    },
    {
     "name": "stderr",
     "output_type": "stream",
     "text": [
      "[I 2025-01-13 13:23:58,332] Trial 44 finished with value: 10.427190780639648 and parameters: {'num_units': 208, 'num_layers': 2, 'dropout_rate': 0.14378729015399005, 'learning_rate': 0.00028860000853063125, 'batch_size': 48, 'epochs': 90}. Best is trial 15 with value: 8.538989067077637.\n",
      "/home/imran/github space/OptimizationAlgo/ConferenceEnv/lib/python3.10/site-packages/keras/src/layers/rnn/rnn.py:200: UserWarning: Do not pass an `input_shape`/`input_dim` argument to a layer. When using Sequential models, prefer using an `Input(shape)` object as the first layer in the model instead.\n",
      "  super().__init__(**kwargs)\n"
     ]
    },
    {
     "name": "stdout",
     "output_type": "stream",
     "text": [
      "\u001b[1m10/10\u001b[0m \u001b[32m━━━━━━━━━━━━━━━━━━━━\u001b[0m\u001b[37m\u001b[0m \u001b[1m3s\u001b[0m 196ms/step\n"
     ]
    },
    {
     "name": "stderr",
     "output_type": "stream",
     "text": [
      "[I 2025-01-13 13:28:49,659] Trial 45 finished with value: 16.439559936523438 and parameters: {'num_units': 176, 'num_layers': 2, 'dropout_rate': 0.23192950553410052, 'learning_rate': 0.0002310238682709574, 'batch_size': 80, 'epochs': 90}. Best is trial 15 with value: 8.538989067077637.\n",
      "/home/imran/github space/OptimizationAlgo/ConferenceEnv/lib/python3.10/site-packages/keras/src/layers/rnn/rnn.py:200: UserWarning: Do not pass an `input_shape`/`input_dim` argument to a layer. When using Sequential models, prefer using an `Input(shape)` object as the first layer in the model instead.\n",
      "  super().__init__(**kwargs)\n"
     ]
    },
    {
     "name": "stdout",
     "output_type": "stream",
     "text": [
      "\u001b[1m10/10\u001b[0m \u001b[32m━━━━━━━━━━━━━━━━━━━━\u001b[0m\u001b[37m\u001b[0m \u001b[1m2s\u001b[0m 157ms/step\n"
     ]
    },
    {
     "name": "stderr",
     "output_type": "stream",
     "text": [
      "[I 2025-01-13 13:33:39,351] Trial 46 finished with value: 20.40985870361328 and parameters: {'num_units': 224, 'num_layers': 2, 'dropout_rate': 0.11513822031104567, 'learning_rate': 0.0003412410025189239, 'batch_size': 112, 'epochs': 60}. Best is trial 15 with value: 8.538989067077637.\n",
      "/home/imran/github space/OptimizationAlgo/ConferenceEnv/lib/python3.10/site-packages/keras/src/layers/rnn/rnn.py:200: UserWarning: Do not pass an `input_shape`/`input_dim` argument to a layer. When using Sequential models, prefer using an `Input(shape)` object as the first layer in the model instead.\n",
      "  super().__init__(**kwargs)\n"
     ]
    },
    {
     "name": "stdout",
     "output_type": "stream",
     "text": [
      "\u001b[1m10/10\u001b[0m \u001b[32m━━━━━━━━━━━━━━━━━━━━\u001b[0m\u001b[37m\u001b[0m \u001b[1m3s\u001b[0m 230ms/step\n"
     ]
    },
    {
     "name": "stderr",
     "output_type": "stream",
     "text": [
      "[I 2025-01-13 13:36:50,412] Trial 47 finished with value: 17.375186920166016 and parameters: {'num_units': 192, 'num_layers': 2, 'dropout_rate': 0.13042879281692688, 'learning_rate': 0.0004731185710096884, 'batch_size': 64, 'epochs': 40}. Best is trial 15 with value: 8.538989067077637.\n",
      "/home/imran/github space/OptimizationAlgo/ConferenceEnv/lib/python3.10/site-packages/keras/src/layers/rnn/rnn.py:200: UserWarning: Do not pass an `input_shape`/`input_dim` argument to a layer. When using Sequential models, prefer using an `Input(shape)` object as the first layer in the model instead.\n",
      "  super().__init__(**kwargs)\n"
     ]
    },
    {
     "name": "stdout",
     "output_type": "stream",
     "text": [
      "\u001b[1m10/10\u001b[0m \u001b[32m━━━━━━━━━━━━━━━━━━━━\u001b[0m\u001b[37m\u001b[0m \u001b[1m2s\u001b[0m 109ms/step\n"
     ]
    },
    {
     "name": "stderr",
     "output_type": "stream",
     "text": [
      "[I 2025-01-13 13:39:35,943] Trial 48 finished with value: 167.71945190429688 and parameters: {'num_units': 96, 'num_layers': 2, 'dropout_rate': 0.16037399293160362, 'learning_rate': 0.0001005012936602318, 'batch_size': 80, 'epochs': 80}. Best is trial 15 with value: 8.538989067077637.\n",
      "/home/imran/github space/OptimizationAlgo/ConferenceEnv/lib/python3.10/site-packages/keras/src/layers/rnn/rnn.py:200: UserWarning: Do not pass an `input_shape`/`input_dim` argument to a layer. When using Sequential models, prefer using an `Input(shape)` object as the first layer in the model instead.\n",
      "  super().__init__(**kwargs)\n"
     ]
    },
    {
     "name": "stdout",
     "output_type": "stream",
     "text": [
      "\u001b[1m10/10\u001b[0m \u001b[32m━━━━━━━━━━━━━━━━━━━━\u001b[0m\u001b[37m\u001b[0m \u001b[1m2s\u001b[0m 125ms/step\n"
     ]
    },
    {
     "name": "stderr",
     "output_type": "stream",
     "text": [
      "[I 2025-01-13 13:42:19,009] Trial 49 finished with value: 19.84587287902832 and parameters: {'num_units': 128, 'num_layers': 2, 'dropout_rate': 0.10049839813058088, 'learning_rate': 0.00019295557853659032, 'batch_size': 48, 'epochs': 70}. Best is trial 15 with value: 8.538989067077637.\n"
     ]
    }
   ],
   "source": [
    "study = optuna.create_study(direction=\"minimize\", study_name=\"Tree Parzen Optimization of LSTM\")\n",
    "study.optimize(objective, n_trials=50)"
   ]
  },
  {
   "cell_type": "code",
   "execution_count": 77,
   "metadata": {},
   "outputs": [
    {
     "data": {
      "text/plain": [
       "{'num_units': 96,\n",
       " 'num_layers': 2,\n",
       " 'dropout_rate': 0.14310311885241903,\n",
       " 'learning_rate': 0.0002352362187582648,\n",
       " 'batch_size': 16,\n",
       " 'epochs': 90}"
      ]
     },
     "execution_count": 77,
     "metadata": {},
     "output_type": "execute_result"
    }
   ],
   "source": [
    "study.best_params"
   ]
  },
  {
   "cell_type": "code",
   "execution_count": 80,
   "metadata": {},
   "outputs": [
    {
     "name": "stdout",
     "output_type": "stream",
     "text": [
      "Requirement already satisfied: plotly in ./ConferenceEnv/lib/python3.10/site-packages (5.24.1)\n",
      "Requirement already satisfied: tenacity>=6.2.0 in ./ConferenceEnv/lib/python3.10/site-packages (from plotly) (9.0.0)\n",
      "Requirement already satisfied: packaging in ./ConferenceEnv/lib/python3.10/site-packages (from plotly) (24.2)\n"
     ]
    }
   ],
   "source": [
    "!pip install plotly"
   ]
  },
  {
   "cell_type": "code",
   "execution_count": 81,
   "metadata": {},
   "outputs": [
    {
     "ename": "ImportError",
     "evalue": "Tried to import 'plotly' but failed. Please make sure that the package is installed correctly to use this feature. Actual error: No module named 'plotly'.",
     "output_type": "error",
     "traceback": [
      "\u001b[0;31m---------------------------------------------------------------------------\u001b[0m",
      "\u001b[0;31mModuleNotFoundError\u001b[0m                       Traceback (most recent call last)",
      "File \u001b[0;32m~/github space/OptimizationAlgo/ConferenceEnv/lib/python3.10/site-packages/optuna/visualization/_plotly_imports.py:7\u001b[0m\n\u001b[1;32m      6\u001b[0m \u001b[38;5;28;01mwith\u001b[39;00m try_import() \u001b[38;5;28;01mas\u001b[39;00m _imports:\n\u001b[0;32m----> 7\u001b[0m     \u001b[38;5;28;01mimport\u001b[39;00m\u001b[38;5;250m \u001b[39m\u001b[38;5;21;01mplotly\u001b[39;00m\n\u001b[1;32m      8\u001b[0m     \u001b[38;5;28;01mfrom\u001b[39;00m\u001b[38;5;250m \u001b[39m\u001b[38;5;21;01mplotly\u001b[39;00m\u001b[38;5;250m \u001b[39m\u001b[38;5;28;01mimport\u001b[39;00m __version__ \u001b[38;5;28;01mas\u001b[39;00m plotly_version\n",
      "\u001b[0;31mModuleNotFoundError\u001b[0m: No module named 'plotly'",
      "\nThe above exception was the direct cause of the following exception:\n",
      "\u001b[0;31mImportError\u001b[0m                               Traceback (most recent call last)",
      "Cell \u001b[0;32mIn[81], line 3\u001b[0m\n\u001b[1;32m      1\u001b[0m \u001b[38;5;28;01mfrom\u001b[39;00m\u001b[38;5;250m \u001b[39m\u001b[38;5;21;01moptuna\u001b[39;00m\u001b[38;5;21;01m.\u001b[39;00m\u001b[38;5;21;01mvisualization\u001b[39;00m\u001b[38;5;250m \u001b[39m\u001b[38;5;28;01mimport\u001b[39;00m plot_parallel_coordinate\n\u001b[0;32m----> 3\u001b[0m fig \u001b[38;5;241m=\u001b[39m \u001b[43mplot_parallel_coordinate\u001b[49m\u001b[43m(\u001b[49m\u001b[43mstudy\u001b[49m\u001b[43m)\u001b[49m\n\u001b[1;32m      4\u001b[0m fig\u001b[38;5;241m.\u001b[39mshow()\n",
      "File \u001b[0;32m~/github space/OptimizationAlgo/ConferenceEnv/lib/python3.10/site-packages/optuna/visualization/_parallel_coordinate.py:83\u001b[0m, in \u001b[0;36mplot_parallel_coordinate\u001b[0;34m(study, params, target, target_name)\u001b[0m\n\u001b[1;32m     50\u001b[0m \u001b[38;5;28;01mdef\u001b[39;00m\u001b[38;5;250m \u001b[39m\u001b[38;5;21mplot_parallel_coordinate\u001b[39m(\n\u001b[1;32m     51\u001b[0m     study: Study,\n\u001b[1;32m     52\u001b[0m     params: \u001b[38;5;28mlist\u001b[39m[\u001b[38;5;28mstr\u001b[39m] \u001b[38;5;241m|\u001b[39m \u001b[38;5;28;01mNone\u001b[39;00m \u001b[38;5;241m=\u001b[39m \u001b[38;5;28;01mNone\u001b[39;00m,\n\u001b[0;32m   (...)\u001b[0m\n\u001b[1;32m     55\u001b[0m     target_name: \u001b[38;5;28mstr\u001b[39m \u001b[38;5;241m=\u001b[39m \u001b[38;5;124m\"\u001b[39m\u001b[38;5;124mObjective Value\u001b[39m\u001b[38;5;124m\"\u001b[39m,\n\u001b[1;32m     56\u001b[0m ) \u001b[38;5;241m-\u001b[39m\u001b[38;5;241m>\u001b[39m \u001b[38;5;124m\"\u001b[39m\u001b[38;5;124mgo.Figure\u001b[39m\u001b[38;5;124m\"\u001b[39m:\n\u001b[1;32m     57\u001b[0m \u001b[38;5;250m    \u001b[39m\u001b[38;5;124;03m\"\"\"Plot the high-dimensional parameter relationships in a study.\u001b[39;00m\n\u001b[1;32m     58\u001b[0m \n\u001b[1;32m     59\u001b[0m \u001b[38;5;124;03m    Note that, if a parameter contains missing values, a trial with missing values is not plotted.\u001b[39;00m\n\u001b[0;32m   (...)\u001b[0m\n\u001b[1;32m     80\u001b[0m \u001b[38;5;124;03m        of :class:`~optuna.study.Study` is ``minimize``.\u001b[39;00m\n\u001b[1;32m     81\u001b[0m \u001b[38;5;124;03m    \"\"\"\u001b[39;00m\n\u001b[0;32m---> 83\u001b[0m     \u001b[43m_imports\u001b[49m\u001b[38;5;241;43m.\u001b[39;49m\u001b[43mcheck\u001b[49m\u001b[43m(\u001b[49m\u001b[43m)\u001b[49m\n\u001b[1;32m     84\u001b[0m     info \u001b[38;5;241m=\u001b[39m _get_parallel_coordinate_info(study, params, target, target_name)\n\u001b[1;32m     85\u001b[0m     \u001b[38;5;28;01mreturn\u001b[39;00m _get_parallel_coordinate_plot(info)\n",
      "File \u001b[0;32m~/github space/OptimizationAlgo/ConferenceEnv/lib/python3.10/site-packages/optuna/_imports.py:95\u001b[0m, in \u001b[0;36m_DeferredImportExceptionContextManager.check\u001b[0;34m(self)\u001b[0m\n\u001b[1;32m     93\u001b[0m \u001b[38;5;28;01mif\u001b[39;00m \u001b[38;5;28mself\u001b[39m\u001b[38;5;241m.\u001b[39m_deferred \u001b[38;5;129;01mis\u001b[39;00m \u001b[38;5;129;01mnot\u001b[39;00m \u001b[38;5;28;01mNone\u001b[39;00m:\n\u001b[1;32m     94\u001b[0m     exc_value, message \u001b[38;5;241m=\u001b[39m \u001b[38;5;28mself\u001b[39m\u001b[38;5;241m.\u001b[39m_deferred\n\u001b[0;32m---> 95\u001b[0m     \u001b[38;5;28;01mraise\u001b[39;00m \u001b[38;5;167;01mImportError\u001b[39;00m(message) \u001b[38;5;28;01mfrom\u001b[39;00m\u001b[38;5;250m \u001b[39m\u001b[38;5;21;01mexc_value\u001b[39;00m\n",
      "\u001b[0;31mImportError\u001b[0m: Tried to import 'plotly' but failed. Please make sure that the package is installed correctly to use this feature. Actual error: No module named 'plotly'."
     ]
    }
   ],
   "source": [
    "from optuna.visualization import plot_parallel_coordinate\n",
    "\n",
    "fig = plot_parallel_coordinate(study)\n",
    "fig.show()"
   ]
  },
  {
   "cell_type": "code",
   "execution_count": 82,
   "metadata": {},
   "outputs": [
    {
     "data": {
      "text/plain": [
       "<bound method Study._get_trials of <optuna.study.study.Study object at 0x71e469131120>>"
      ]
     },
     "execution_count": 82,
     "metadata": {},
     "output_type": "execute_result"
    }
   ],
   "source": [
    "study._get_trials"
   ]
  },
  {
   "cell_type": "code",
   "execution_count": 86,
   "metadata": {},
   "outputs": [],
   "source": [
    "from optimizers import GWO\n",
    "\n",
    "def objective_for_gwo(params):\n",
    "    num_units = int(params[0])\n",
    "    num_layers = int(params[1])\n",
    "    dropout_rate = params[2]\n",
    "    learning_rate = params[3]\n",
    "    batch_size = int(params[4])\n",
    "    epochs = int(params[5])\n",
    "    \n",
    "    # Model definition\n",
    "    model = Sequential()\n",
    "    model.add(Input(shape=(n, h)))\n",
    "\n",
    "    if num_layers > 1:\n",
    "        model.add(LSTM(units=num_units, return_sequences=True))\n",
    "        model.add(Dropout(rate=dropout_rate))\n",
    "    else:\n",
    "        model.add(LSTM(units=num_units, return_sequences=False))\n",
    "    model.add(Dropout(rate=dropout_rate))\n",
    "\n",
    "    for _ in range(num_layers - 2):\n",
    "        model.add(LSTM(units=num_units, return_sequences=True))\n",
    "        model.add(Dropout(rate=dropout_rate))\n",
    "\n",
    "    if num_layers > 1:\n",
    "        model.add(LSTM(units=num_units, return_sequences=False))\n",
    "        model.add(Dropout(rate=dropout_rate))\n",
    "\n",
    "    model.add(Dense(units=1, activation=\"linear\"))\n",
    "\n",
    "    optimizer = Adam(learning_rate=learning_rate)\n",
    "    model.compile(optimizer=optimizer, loss=\"mse\")\n",
    "\n",
    "    # Train the model\n",
    "    early_stopping = EarlyStopping(monitor=\"val_loss\", patience=5, restore_best_weights=True)\n",
    "    model.fit(\n",
    "        trainX, train_y,\n",
    "        validation_split=0.2,\n",
    "        epochs=epochs,\n",
    "        batch_size=batch_size,\n",
    "        callbacks=[early_stopping],\n",
    "        verbose=0\n",
    "    )\n",
    "\n",
    "    # Predict and calculate MSE\n",
    "    y_pred = model.predict(testX)\n",
    "    mse = mean_squared_error(test_y, y_pred)\n",
    "    return mse"
   ]
  },
  {
   "cell_type": "code",
   "execution_count": null,
   "metadata": {},
   "outputs": [
    {
     "name": "stdout",
     "output_type": "stream",
     "text": [
      "[[5.02184362e+01 1.71492447e+00 4.60460085e-01 3.19808566e-03\n",
      "  5.82552898e+01 8.17602773e+01]\n",
      " [1.04881955e+02 2.79914893e+00 1.81840555e-01 3.43337980e-03\n",
      "  7.00349115e+01 7.79977892e+01]\n",
      " [2.05992971e+02 1.56239589e+00 2.31135415e-01 4.56508325e-03\n",
      "  1.19780966e+02 2.88180823e+01]\n",
      " [6.57016204e+01 1.03275692e+00 3.68073342e-01 3.71944651e-04\n",
      "  1.05463435e+02 6.25085057e+01]\n",
      " [1.23177515e+02 2.36822689e+00 1.10998809e-01 5.67640152e-03\n",
      "  9.60258808e+01 8.23549215e+01]\n",
      " [1.52911238e+02 1.64657761e+00 3.80667711e-01 7.72510673e-03\n",
      "  6.41183505e+01 8.43913139e+01]\n",
      " [2.20419418e+02 1.12805550e+00 4.34901444e-01 2.29268601e-03\n",
      "  4.38274648e+01 8.83400534e+01]]\n",
      "GWO is optimizing  \"objective_for_gwo\"\n",
      "[5.02184362e+01 1.71492447e+00 4.60460085e-01 3.19808566e-03\n",
      " 5.82552898e+01 8.17602773e+01]\n",
      "\u001b[1m10/10\u001b[0m \u001b[32m━━━━━━━━━━━━━━━━━━━━\u001b[0m\u001b[37m\u001b[0m \u001b[1m1s\u001b[0m 31ms/step\n",
      "[1.04881955e+02 2.79914893e+00 1.81840555e-01 3.43337980e-03\n",
      " 7.00349115e+01 7.79977892e+01]\n",
      "\u001b[1m10/10\u001b[0m \u001b[32m━━━━━━━━━━━━━━━━━━━━\u001b[0m\u001b[37m\u001b[0m \u001b[1m1s\u001b[0m 52ms/step\n",
      "[2.05992971e+02 1.56239589e+00 2.31135415e-01 4.56508325e-03\n",
      " 1.19780966e+02 2.88180823e+01]\n",
      "\u001b[1m10/10\u001b[0m \u001b[32m━━━━━━━━━━━━━━━━━━━━\u001b[0m\u001b[37m\u001b[0m \u001b[1m1s\u001b[0m 38ms/step\n",
      "[6.57016204e+01 1.03275692e+00 3.68073342e-01 3.71944651e-04\n",
      " 1.05463435e+02 6.25085057e+01]\n",
      "\u001b[1m10/10\u001b[0m \u001b[32m━━━━━━━━━━━━━━━━━━━━\u001b[0m\u001b[37m\u001b[0m \u001b[1m0s\u001b[0m 28ms/step\n",
      "[1.23177515e+02 2.36822689e+00 1.10998809e-01 5.67640152e-03\n",
      " 9.60258808e+01 8.23549215e+01]\n",
      "\u001b[1m10/10\u001b[0m \u001b[32m━━━━━━━━━━━━━━━━━━━━\u001b[0m\u001b[37m\u001b[0m \u001b[1m1s\u001b[0m 51ms/step\n",
      "[1.52911238e+02 1.64657761e+00 3.80667711e-01 7.72510673e-03\n",
      " 6.41183505e+01 8.43913139e+01]\n",
      "\u001b[1m10/10\u001b[0m \u001b[32m━━━━━━━━━━━━━━━━━━━━\u001b[0m\u001b[37m\u001b[0m \u001b[1m1s\u001b[0m 34ms/step\n",
      "[2.20419418e+02 1.12805550e+00 4.34901444e-01 2.29268601e-03\n",
      " 4.38274648e+01 8.83400534e+01]\n",
      "\u001b[1m10/10\u001b[0m \u001b[32m━━━━━━━━━━━━━━━━━━━━\u001b[0m\u001b[37m\u001b[0m \u001b[1m1s\u001b[0m 51ms/step\n",
      "['At iteration 0 the best fitness is 98.06837463378906']\n",
      "[9.24993463e+01 1.06678378e+00 5.00000000e-01 2.26294603e-03\n",
      " 8.27546747e+01 9.27017799e+01]\n",
      "\u001b[1m10/10\u001b[0m \u001b[32m━━━━━━━━━━━━━━━━━━━━\u001b[0m\u001b[37m\u001b[0m \u001b[1m1s\u001b[0m 35ms/step\n",
      "[2.08318640e+02 1.12620884e+00 4.53498071e-01 3.61468918e-03\n",
      " 6.75989031e+01 6.50645482e+01]\n",
      "\u001b[1m10/10\u001b[0m \u001b[32m━━━━━━━━━━━━━━━━━━━━\u001b[0m\u001b[37m\u001b[0m \u001b[1m1s\u001b[0m 95ms/step\n",
      "[2.24000000e+02 1.00000000e+00 2.75792959e-01 5.01119379e-03\n",
      " 6.14348239e+01 9.55016796e+01]\n",
      "\u001b[1m10/10\u001b[0m \u001b[32m━━━━━━━━━━━━━━━━━━━━\u001b[0m\u001b[37m\u001b[0m \u001b[1m1s\u001b[0m 44ms/step\n",
      "[7.04795642e+01 1.00000000e+00 3.76444949e-01 2.51002312e-03\n",
      " 1.20913645e+02 4.69561397e+01]\n",
      "\u001b[1m10/10\u001b[0m \u001b[32m━━━━━━━━━━━━━━━━━━━━\u001b[0m\u001b[37m\u001b[0m \u001b[1m1s\u001b[0m 34ms/step\n",
      "[1.60000000e+01 2.83347273e+00 1.62856757e-01 3.75508872e-03\n",
      " 1.60000000e+01 5.41302239e+01]\n",
      "\u001b[1m10/10\u001b[0m \u001b[32m━━━━━━━━━━━━━━━━━━━━\u001b[0m\u001b[37m\u001b[0m \u001b[1m1s\u001b[0m 77ms/step\n",
      "[1.85285944e+02 1.00000000e+00 2.61697517e-01 4.34747160e-03\n",
      " 6.06518961e+01 1.00000000e+02]\n",
      "\u001b[1m10/10\u001b[0m \u001b[32m━━━━━━━━━━━━━━━━━━━━\u001b[0m\u001b[37m\u001b[0m \u001b[1m1s\u001b[0m 52ms/step\n",
      "[1.01697069e+02 3.00000000e+00 3.12009202e-01 4.31724780e-03\n",
      " 6.93376269e+01 6.53892375e+01]\n"
     ]
    }
   ],
   "source": [
    "\"\"\"\"\n",
    "num_units = int(params[0])\n",
    "num_layers = int(params[1])\n",
    "dropout_rate = params[2]\n",
    "learning_rate = params[3]\n",
    "batch_size = int(params[4])\n",
    "epochs = int(params[5])\n",
    "\"\"\"\n",
    "lb = [16, 1, 0.1, 1e-4, 16, 10]  # Lower bounds\n",
    "ub = [224, 3, 0.5, 1e-2, 128, 100]  # Upper bounds\n",
    "dim = len(lb)\n",
    "\n",
    "# Run GWO\n",
    "best_params, best_score = GWO(objective_for_gwo, lb, ub, dim, SearchAgents_no=7, Max_iter=50)\n"
   ]
  },
  {
   "cell_type": "code",
   "execution_count": null,
   "metadata": {},
   "outputs": [],
   "source": []
  }
 ],
 "metadata": {
  "kernelspec": {
   "display_name": "ConferenceEnv",
   "language": "python",
   "name": "python3"
  },
  "language_info": {
   "codemirror_mode": {
    "name": "ipython",
    "version": 3
   },
   "file_extension": ".py",
   "mimetype": "text/x-python",
   "name": "python",
   "nbconvert_exporter": "python",
   "pygments_lexer": "ipython3",
   "version": "3.10.12"
  }
 },
 "nbformat": 4,
 "nbformat_minor": 2
}
